{
 "cells": [
  {
   "cell_type": "markdown",
   "id": "96ebfd7e",
   "metadata": {},
   "source": [
    "# 5.4 自定义层"
   ]
  },
  {
   "cell_type": "markdown",
   "id": "39fbd8e1",
   "metadata": {},
   "source": [
    "深度学习的灵活性：我们可以用创造的方式组合不同的层，从而设计出适用于各种任务的架构。"
   ]
  },
  {
   "cell_type": "markdown",
   "id": "71b62195",
   "metadata": {},
   "source": [
    "## 5.4.1 不带参数的层"
   ]
  },
  {
   "cell_type": "markdown",
   "id": "99687d72",
   "metadata": {},
   "source": [
    "首先构造一个没有任何参数的自定义层。"
   ]
  },
  {
   "cell_type": "code",
   "execution_count": 1,
   "id": "18267a5f",
   "metadata": {},
   "outputs": [],
   "source": [
    "# CenteredLayer类要从其输入中减去均值。要构建它我们只需继承基础层类并实现前向传播功能。\n",
    "import torch\n",
    "import torch.nn.functional as F\n",
    "from torch import nn\n",
    "\n",
    "class CenteredLayer(nn.Module):\n",
    "    def __init__(self):\n",
    "        super().__init__()\n",
    "        \n",
    "    def forward(self, X):\n",
    "        return X - X.mean()"
   ]
  },
  {
   "cell_type": "code",
   "execution_count": 2,
   "id": "b0469451",
   "metadata": {},
   "outputs": [
    {
     "data": {
      "text/plain": [
       "tensor([-2., -1.,  0.,  1.,  2.])"
      ]
     },
     "execution_count": 2,
     "metadata": {},
     "output_type": "execute_result"
    }
   ],
   "source": [
    "# 向该层提供一些数据，验证它是否能按预期工作\n",
    "layer = CenteredLayer()\n",
    "layer(torch.FloatTensor([1, 2, 3, 4, 5]))"
   ]
  },
  {
   "cell_type": "code",
   "execution_count": 3,
   "id": "1b635f9d",
   "metadata": {},
   "outputs": [],
   "source": [
    "# 我们可以将层作为组件合并到更为复杂的模型中。\n",
    "net = nn.Sequential(nn.Linear(8, 128), CenteredLayer())"
   ]
  },
  {
   "cell_type": "code",
   "execution_count": 4,
   "id": "1749e4dc",
   "metadata": {},
   "outputs": [
    {
     "data": {
      "text/plain": [
       "tensor(5.3551e-09, grad_fn=<MeanBackward0>)"
      ]
     },
     "execution_count": 4,
     "metadata": {},
     "output_type": "execute_result"
    }
   ],
   "source": [
    "# 作为额外的健全性检查，我们可以在向该网络发送随机数后，检查均值是否为0。\n",
    "Y = net(torch.rand(4, 8))\n",
    "Y.mean()"
   ]
  },
  {
   "cell_type": "markdown",
   "id": "3230b458",
   "metadata": {},
   "source": [
    "## 5.4.2 带参数的层"
   ]
  },
  {
   "cell_type": "markdown",
   "id": "986f35eb",
   "metadata": {},
   "source": [
    "以上我们知道了如何定义简单的层，下面我们继续定义带有参数的层。这些参数可以通过训练进行调整。我们可以使用内置函数来创建参数，这些函数提供一些基本的管理功能。比如管理访问、初始化、共享、保存和加载模型参数。这样的好处之一是：我们不需要为每个自定义层编写自定义的序列化程序。  \n",
    "现在让我们实现自定义版本的全连接层。该层需要两个参数，一个用于表示权重，一个用于表示偏置项。使用修正线性单元作为激活函数。  \n",
    "该层需要输入参数：in_units和units，分别表示输入数和输出数。"
   ]
  },
  {
   "cell_type": "code",
   "execution_count": 5,
   "id": "893b8291",
   "metadata": {},
   "outputs": [],
   "source": [
    "class MyLinear(nn.Module):\n",
    "    def __init__(self, in_units, units):\n",
    "        super().__init__()\n",
    "        self.weight = nn.Parameter(torch.randn(in_units, units))\n",
    "        self.bias = nn.Parameter(torch.randn(units,))\n",
    "    def forward(self, X):\n",
    "        linear = torch.matmul(X, self.weight.data) + self.bias.data\n",
    "        return F.relu(linear)"
   ]
  },
  {
   "cell_type": "code",
   "execution_count": 6,
   "id": "16fb249b",
   "metadata": {},
   "outputs": [
    {
     "data": {
      "text/plain": [
       "Parameter containing:\n",
       "tensor([[-1.6137,  0.9767,  0.1440],\n",
       "        [ 1.7588,  1.0419,  0.6603],\n",
       "        [ 1.7939, -1.2599, -0.4129],\n",
       "        [ 0.8946, -0.7357,  0.0705],\n",
       "        [-0.6789,  0.9411, -0.0666]], requires_grad=True)"
      ]
     },
     "execution_count": 6,
     "metadata": {},
     "output_type": "execute_result"
    }
   ],
   "source": [
    "# 实例化MyLinear类并访问其模型参数\n",
    "linear = MyLinear(5, 3)\n",
    "linear.weight"
   ]
  },
  {
   "cell_type": "code",
   "execution_count": 7,
   "id": "0676d24d",
   "metadata": {},
   "outputs": [
    {
     "data": {
      "text/plain": [
       "tensor([[2.5538, 0.0678, 0.0000],\n",
       "        [0.2797, 2.0913, 0.0000]])"
      ]
     },
     "execution_count": 7,
     "metadata": {},
     "output_type": "execute_result"
    }
   ],
   "source": [
    "# 可以使用自定义层直接进行权重计算\n",
    "linear(torch.rand(2, 5))"
   ]
  },
  {
   "cell_type": "code",
   "execution_count": 8,
   "id": "c24a343f",
   "metadata": {},
   "outputs": [
    {
     "data": {
      "text/plain": [
       "tensor([[1.8957],\n",
       "        [0.0000]])"
      ]
     },
     "execution_count": 8,
     "metadata": {},
     "output_type": "execute_result"
    }
   ],
   "source": [
    "# 可以使用自定义层来构造模型，就像使用内置的全连接层一样使用自定义层\n",
    "net = nn.Sequential(MyLinear(64, 8), MyLinear(8, 1))\n",
    "net(torch.rand(2, 64))"
   ]
  },
  {
   "cell_type": "markdown",
   "id": "a08d1f99",
   "metadata": {},
   "source": [
    "## 5.4.3 小结"
   ]
  },
  {
   "cell_type": "markdown",
   "id": "5907d2cc",
   "metadata": {},
   "source": [
    "·我们可以通过基本层类设计自定义层。这允许我们定义灵活的新层，其行为与深度学习框架中的任何现有层不同。  \n",
    "·在自定义层完成后，我们就可以在任意环境和网络架构中调用该自定义层。  \n",
    "·层可以有局部参数，这些参数可以通过内置函数创建。"
   ]
  }
 ],
 "metadata": {
  "kernelspec": {
   "display_name": "Python 3 (ipykernel)",
   "language": "python",
   "name": "python3"
  },
  "language_info": {
   "codemirror_mode": {
    "name": "ipython",
    "version": 3
   },
   "file_extension": ".py",
   "mimetype": "text/x-python",
   "name": "python",
   "nbconvert_exporter": "python",
   "pygments_lexer": "ipython3",
   "version": "3.9.12"
  }
 },
 "nbformat": 4,
 "nbformat_minor": 5
}
