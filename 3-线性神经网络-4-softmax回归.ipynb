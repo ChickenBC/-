{
 "cells": [
  {
   "cell_type": "markdown",
   "id": "0c959a6d",
   "metadata": {},
   "source": [
    "# 3.4 softmax回归"
   ]
  },
  {
   "cell_type": "code",
   "execution_count": 1,
   "id": "729722ca",
   "metadata": {},
   "outputs": [],
   "source": [
    "#回归可以用于预测多少的问题，比如预测房屋被售出的价格，或者棒球队可能获得的胜场数，又或者患者住院的天数。\n",
    "#事实上，我们也对分类感兴趣：不是问“多少”，而是问“哪一个”。"
   ]
  },
  {
   "cell_type": "markdown",
   "id": "8c769c36",
   "metadata": {},
   "source": [
    "## 3.4.1 分类问题"
   ]
  },
  {
   "cell_type": "code",
   "execution_count": 2,
   "id": "8edd6b45",
   "metadata": {},
   "outputs": [],
   "source": [
    "#表示分类数据的简单方法：独热编码(one-hot encoding)\n",
    "#独热编码是一个向量，它的分量和类别一样多，类别对应的分量设置为1，其他所有分量设置为0。"
   ]
  },
  {
   "cell_type": "markdown",
   "id": "a20bafcb",
   "metadata": {},
   "source": [
    "## 3.4.2 网络架构"
   ]
  },
  {
   "cell_type": "code",
   "execution_count": 3,
   "id": "da9d914c",
   "metadata": {},
   "outputs": [],
   "source": [
    "#为了估计所有可能类别的条件概率，我们需要一个有多个输出的模型，每个类别对应一个输出。"
   ]
  },
  {
   "cell_type": "markdown",
   "id": "e1cdf136",
   "metadata": {},
   "source": [
    "## 3.4.3 全连接层的参数开销"
   ]
  },
  {
   "cell_type": "code",
   "execution_count": 4,
   "id": "e8c7311e",
   "metadata": {},
   "outputs": [],
   "source": [
    "#任何具有d个输入和q个输出的全连接层，参数开销为O(dq)\n",
    "#将d个输入转换为q个输出的成本可以减少到O(dq/n)，其中超参数n可以由我们灵活指定，以在实际应用中平衡参数节约和模型有效性。"
   ]
  },
  {
   "cell_type": "markdown",
   "id": "cf9fc04d",
   "metadata": {},
   "source": [
    "## 3.4.4 softmax运算"
   ]
  },
  {
   "cell_type": "code",
   "execution_count": 5,
   "id": "39a3c2c1",
   "metadata": {},
   "outputs": [],
   "source": [
    "#现在我们将优化参数以最大化观测数据的概率。为了得到结果，我们将设置一个阈值，如选择具有最大概率的标签。\n",
    "\n",
    "#能否将未规范化的预测直接视作我们感兴趣的输出呢？答案是否定的。因为将线性层的输出直接视为概率时存在一些问题。\n",
    "#一方面，我们没有设置这些输出数字的总和为1；另一方面，根据输出的不同，它们可以为负值，这违反了概率基本公理。\n",
    "\n",
    "#要将输出视为概率，我们必须保证任何数据上的输出都是非负且总和为1.此外，我们需要一个训练目标，来鼓励模型精准地估计概率。\n",
    "#在分类器输出0.5的所有样本中，我们希望这些样本有一半实际上属于预测的类。这个属性叫做校准。"
   ]
  },
  {
   "cell_type": "code",
   "execution_count": 6,
   "id": "3582a258",
   "metadata": {},
   "outputs": [],
   "source": [
    "#softmax函数将未规范化的预测变换为非负并且总和为1，同时要求模型保持可导。\n",
    "#我们首先对每个未规范化的预测求幂，这样可以保证输出非负。为了确保最终输出总和为1，我们再对每个求幂后的结果除以它们的总和。"
   ]
  },
  {
   "cell_type": "code",
   "execution_count": 7,
   "id": "dc1f6735",
   "metadata": {},
   "outputs": [],
   "source": [
    "#尽管softmax是一个非线性函数，但softmax回归的输出仍然由输入特征的仿射变换决定。因此，softmax回归是一个线性模型。"
   ]
  },
  {
   "cell_type": "markdown",
   "id": "315bb6c5",
   "metadata": {},
   "source": [
    "## 3.4.5 小批量样本的矢量化"
   ]
  },
  {
   "cell_type": "code",
   "execution_count": 8,
   "id": "6654036c",
   "metadata": {},
   "outputs": [],
   "source": [
    "#为了提高计算效率并且充分利用GPU，我们通常会针对小批量数据执行矢量计算。\n",
    "#相对于一次处理一个样本，小批量样本的矢量化加快了X和W的矩阵-向量乘法。"
   ]
  },
  {
   "cell_type": "markdown",
   "id": "f8d2a982",
   "metadata": {},
   "source": [
    "## 3.4.6 损失函数"
   ]
  },
  {
   "cell_type": "code",
   "execution_count": 9,
   "id": "59d1ae8a",
   "metadata": {},
   "outputs": [],
   "source": [
    "#我们需要一个损失函数来度量预测的结果，我们将使用最大似然估计，这与在线性回归中的方法相同。"
   ]
  },
  {
   "cell_type": "markdown",
   "id": "8bc60fe7",
   "metadata": {},
   "source": [
    "### 3.4.6.1 对数似然"
   ]
  },
  {
   "cell_type": "markdown",
   "id": "3defe4f7",
   "metadata": {},
   "source": [
    "### 3.4.6.2 softmax及其导数"
   ]
  },
  {
   "cell_type": "markdown",
   "id": "6517f62f",
   "metadata": {},
   "source": [
    "### 3.4.6.3 交叉熵损失"
   ]
  },
  {
   "cell_type": "markdown",
   "id": "dbe6cb44",
   "metadata": {},
   "source": [
    "## 3.4.7 信息论基础"
   ]
  },
  {
   "cell_type": "markdown",
   "id": "2e89cc53",
   "metadata": {},
   "source": [
    "### 3.4.7.1 熵"
   ]
  },
  {
   "cell_type": "markdown",
   "id": "13c3efa9",
   "metadata": {},
   "source": [
    "### 3.4.7.2 信息量"
   ]
  },
  {
   "cell_type": "markdown",
   "id": "b3ab16b3",
   "metadata": {},
   "source": [
    "### 3.4.7.3 重新审视交叉熵"
   ]
  },
  {
   "cell_type": "code",
   "execution_count": 10,
   "id": "ba9bfebb",
   "metadata": {},
   "outputs": [],
   "source": [
    "#可以从两个方面来考虑交叉熵分类目标：1.最大化观测数据的似然；2.最小化传达标签所需的惊异。"
   ]
  },
  {
   "cell_type": "markdown",
   "id": "f683d985",
   "metadata": {},
   "source": [
    "## 3.4.8 模型预测和评估"
   ]
  },
  {
   "cell_type": "code",
   "execution_count": 11,
   "id": "c8502965",
   "metadata": {},
   "outputs": [],
   "source": [
    "#用精度来评估模型的性能，精度等于正确预测与预测总数之间的比率。"
   ]
  },
  {
   "cell_type": "markdown",
   "id": "406d5613",
   "metadata": {},
   "source": [
    "## 3.4.9 小结"
   ]
  },
  {
   "cell_type": "code",
   "execution_count": 12,
   "id": "89ae1825",
   "metadata": {},
   "outputs": [],
   "source": [
    "#softma运算获取一个向量并将其映射为概率\n",
    "#softmax回归适用于分类问题，它使用了softmax中输出类别的概率分布。\n",
    "#交叉熵是一个衡量两个概率分布之间差异的很好的度量，它测量给定模型编码数所需的比特数。"
   ]
  }
 ],
 "metadata": {
  "kernelspec": {
   "display_name": "Python 3 (ipykernel)",
   "language": "python",
   "name": "python3"
  },
  "language_info": {
   "codemirror_mode": {
    "name": "ipython",
    "version": 3
   },
   "file_extension": ".py",
   "mimetype": "text/x-python",
   "name": "python",
   "nbconvert_exporter": "python",
   "pygments_lexer": "ipython3",
   "version": "3.8.8"
  }
 },
 "nbformat": 4,
 "nbformat_minor": 5
}
