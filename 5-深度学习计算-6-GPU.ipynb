{
 "cells": [
  {
   "cell_type": "markdown",
   "id": "ca6858ab",
   "metadata": {},
   "source": [
    "# 5.6 GPU"
   ]
  },
  {
   "cell_type": "markdown",
   "id": "03dad6b8",
   "metadata": {},
   "source": [
    "本节中我们将讨论如何利用GPU的计算性能进行研究。首先是如何使用单个GPU，然后是如何使用多个GPU和多个服务器（具有多个GPU）"
   ]
  },
  {
   "cell_type": "code",
   "execution_count": 1,
   "id": "37f1766f",
   "metadata": {},
   "outputs": [
    {
     "name": "stdout",
     "output_type": "stream",
     "text": [
      "Fri Sep 16 07:47:27 2022       \n",
      "+-----------------------------------------------------------------------------+\n",
      "| NVIDIA-SMI 452.06       Driver Version: 452.06       CUDA Version: 11.0     |\n",
      "|-------------------------------+----------------------+----------------------+\n",
      "| GPU  Name            TCC/WDDM | Bus-Id        Disp.A | Volatile Uncorr. ECC |\n",
      "| Fan  Temp  Perf  Pwr:Usage/Cap|         Memory-Usage | GPU-Util  Compute M. |\n",
      "|===============================+======================+======================|\n",
      "|   0  GeForce MX250      WDDM  | 00000000:02:00.0 Off |                  N/A |\n",
      "| N/A   39C    P8    N/A /  N/A |     64MiB /  2048MiB |      0%      Default |\n",
      "+-------------------------------+----------------------+----------------------+\n",
      "                                                                               \n",
      "+-----------------------------------------------------------------------------+\n",
      "| Processes:                                                                  |\n",
      "|  GPU   GI   CI        PID   Type   Process name                  GPU Memory |\n",
      "|        ID   ID                                                   Usage      |\n",
      "|=============================================================================|\n",
      "|  No running processes found                                                 |\n",
      "+-----------------------------------------------------------------------------+\n"
     ]
    }
   ],
   "source": [
    "!nvidia-smi"
   ]
  },
  {
   "cell_type": "markdown",
   "id": "fd47d1e8",
   "metadata": {},
   "source": [
    "在Pytorch中每个数组都有一个设备(device），我们通常将其称为上下文(context)。默认情况下，所有变量和相关的计算都分配给cpu。有时上下文可能是gpu。当我们跨服务器部署作业时事情可能会变得棘手。通过智能地将数组分配给上下文，我们可以最大限度地减少在设备之间传输数据的时间。例如，当在带有GPU的服务器上训练时神经网络时我们通常希望模型参数在gpu上。  \n",
    "要运行此部分的程序至少需要两个gpu，本节主要为了展示数据如何在不同的设备之间传递。"
   ]
  },
  {
   "cell_type": "markdown",
   "id": "ddf25e98",
   "metadata": {},
   "source": [
    "## 5.6.1 计算设备"
   ]
  },
  {
   "cell_type": "markdown",
   "id": "a019baea",
   "metadata": {},
   "source": [
    "我们可以指定用于存储和计算的设备，如CPU和GPU。默认情况下张量实在内存中创建的，然后使用cpu计算它。  \n",
    "在PyTorch中，CPU和GPU可以用torch.device('cpu') 和torch.device('cuda')表示。 应该注意的是，cpu设备意味着所有物理CPU和内存， 这意味着PyTorch的计算将尝试使用所有CPU核心。 然而，gpu设备只代表一个卡和相应的显存。 如果有多个GPU，我们使用torch.device(f'cuda:{i}') 来表示第块GPU（从0开始）。 另外，cuda:0和cuda是等价的。"
   ]
  },
  {
   "cell_type": "code",
   "execution_count": 2,
   "id": "4017489c",
   "metadata": {},
   "outputs": [
    {
     "data": {
      "text/plain": [
       "(device(type='cpu'), device(type='cuda'), device(type='cuda', index=0))"
      ]
     },
     "execution_count": 2,
     "metadata": {},
     "output_type": "execute_result"
    }
   ],
   "source": [
    "import torch\n",
    "from torch import nn\n",
    "\n",
    "torch.device('cpu'), torch.device('cuda'), torch.device('cuda:0')"
   ]
  },
  {
   "cell_type": "code",
   "execution_count": 3,
   "id": "60bf6a36",
   "metadata": {},
   "outputs": [
    {
     "data": {
      "text/plain": [
       "1"
      ]
     },
     "execution_count": 3,
     "metadata": {},
     "output_type": "execute_result"
    }
   ],
   "source": [
    "# 我们可以查询到可用gpu的数量\n",
    "torch.cuda.device_count()"
   ]
  },
  {
   "cell_type": "markdown",
   "id": "d6db545b",
   "metadata": {},
   "source": [
    "现在我们定义了两个方便的函数， 这两个函数允许我们在不存在所需所有GPU的情况下运行代码。"
   ]
  },
  {
   "cell_type": "code",
   "execution_count": 4,
   "id": "96a71744",
   "metadata": {},
   "outputs": [
    {
     "data": {
      "text/plain": [
       "(device(type='cuda', index=0),\n",
       " device(type='cpu'),\n",
       " [device(type='cuda', index=0)])"
      ]
     },
     "execution_count": 4,
     "metadata": {},
     "output_type": "execute_result"
    }
   ],
   "source": [
    "def try_gpu(i=0):  #@save\n",
    "    \"\"\"如果存在，则返回gpu(i)，否则返回cpu()\"\"\"\n",
    "    if torch.cuda.device_count() >= i + 1:\n",
    "        return torch.device(f'cuda:{i}')\n",
    "    return torch.device('cpu')\n",
    "\n",
    "def try_all_gpus():  #@save\n",
    "    \"\"\"返回所有可用的GPU，如果没有GPU，则返回[cpu(),]\"\"\"\n",
    "    devices = [torch.device(f'cuda:{i}')\n",
    "             for i in range(torch.cuda.device_count())]\n",
    "    return devices if devices else [torch.device('cpu')]\n",
    "\n",
    "try_gpu(), try_gpu(10), try_all_gpus()"
   ]
  },
  {
   "cell_type": "markdown",
   "id": "b7b15980",
   "metadata": {},
   "source": [
    "## 5.6.2 张量与GPU"
   ]
  },
  {
   "cell_type": "markdown",
   "id": "f4d167f6",
   "metadata": {},
   "source": [
    "我们可以查询张量所在的设备。 默认情况下，张量是在CPU上创建的。"
   ]
  },
  {
   "cell_type": "code",
   "execution_count": 5,
   "id": "953146f9",
   "metadata": {},
   "outputs": [
    {
     "data": {
      "text/plain": [
       "device(type='cpu')"
      ]
     },
     "execution_count": 5,
     "metadata": {},
     "output_type": "execute_result"
    }
   ],
   "source": [
    "x = torch.tensor([1, 2, 3])\n",
    "x.device"
   ]
  },
  {
   "cell_type": "markdown",
   "id": "8471b78b",
   "metadata": {},
   "source": [
    "需要注意的是，无论何时我们要对多个项进行操作， 它们都必须在同一个设备上。 例如，如果我们对两个张量求和， 我们需要确保两个张量都位于同一个设备上， 否则框架将不知道在哪里存储结果，甚至不知道在哪里执行计算。"
   ]
  },
  {
   "cell_type": "markdown",
   "id": "dccd722a",
   "metadata": {},
   "source": [
    "### 5.6.2.1 存储在GPU上"
   ]
  },
  {
   "cell_type": "markdown",
   "id": "e5812d0b",
   "metadata": {},
   "source": [
    "有几种方法可以在GPU上存储张量。 例如，我们可以在创建张量时指定存储设备。接 下来，我们在第一个gpu上创建张量变量X。 在GPU上创建的张量只消耗这个GPU的显存。 我们可以使用nvidia-smi命令查看显存使用情况。 一般来说，我们需要确保不创建超过GPU显存限制的数据。"
   ]
  },
  {
   "cell_type": "code",
   "execution_count": 6,
   "id": "2b784503",
   "metadata": {},
   "outputs": [
    {
     "data": {
      "text/plain": [
       "tensor([[1., 1., 1.],\n",
       "        [1., 1., 1.]], device='cuda:0')"
      ]
     },
     "execution_count": 6,
     "metadata": {},
     "output_type": "execute_result"
    }
   ],
   "source": [
    "X = torch.ones(2, 3, device=try_gpu())\n",
    "X"
   ]
  },
  {
   "cell_type": "markdown",
   "id": "e19f2a3a",
   "metadata": {},
   "source": [
    "假设你至少有两个GPU，下面的代码将在第二个GPU上创建一个随机张量。"
   ]
  },
  {
   "cell_type": "code",
   "execution_count": 7,
   "id": "519a190e",
   "metadata": {},
   "outputs": [
    {
     "data": {
      "text/plain": [
       "tensor([[0.8582, 0.4929, 0.7631],\n",
       "        [0.7047, 0.3953, 0.8387]], device='cuda:0')"
      ]
     },
     "execution_count": 7,
     "metadata": {},
     "output_type": "execute_result"
    }
   ],
   "source": [
    "# Y = torch.rand(2, 3, device=try_gpu(1))\n",
    "Y = torch.rand(2, 3, device=try_gpu(0))\n",
    "Y"
   ]
  },
  {
   "cell_type": "markdown",
   "id": "8fdbf517",
   "metadata": {},
   "source": [
    "### 5.6.2.2 复制"
   ]
  },
  {
   "cell_type": "markdown",
   "id": "b8231d0a",
   "metadata": {},
   "source": [
    "如果我们要计算X + Y，我们需要决定在哪里执行这个操作。 例如，我们可以将X传输到第二个GPU并在那里执行操作。 不要简单地X加上Y，因为这会导致异常， 运行时引擎不知道该怎么做：它在同一设备上找不到数据会导致失败。 由于Y位于第二个GPU上，所以我们需要将X移到那里， 然后才能执行相加运算。"
   ]
  },
  {
   "cell_type": "code",
   "execution_count": null,
   "id": "609ae31c",
   "metadata": {},
   "outputs": [],
   "source": [
    "Z = X.cuda(1)\n",
    "print(X)\n",
    "print(Z)"
   ]
  },
  {
   "cell_type": "markdown",
   "id": "841dd9a5",
   "metadata": {},
   "source": [
    "现在数据在同一个GPU上（Z和Y都在），我们可以将它们相加。"
   ]
  },
  {
   "cell_type": "code",
   "execution_count": null,
   "id": "a9a7da64",
   "metadata": {},
   "outputs": [],
   "source": [
    "Y + Z"
   ]
  },
  {
   "cell_type": "markdown",
   "id": "c5e8101a",
   "metadata": {},
   "source": [
    "假设变量Z已经存在于第二个GPU上。 如果我们还是调用Z.cuda(1)会发生什么？ 它将返回Z，而不会复制并分配新内存。"
   ]
  },
  {
   "cell_type": "code",
   "execution_count": null,
   "id": "3f921e80",
   "metadata": {},
   "outputs": [],
   "source": [
    "Z.cuda(1) is Z"
   ]
  },
  {
   "cell_type": "markdown",
   "id": "a7bba323",
   "metadata": {},
   "source": [
    "### 5.6.2.3 旁注"
   ]
  },
  {
   "cell_type": "markdown",
   "id": "7c5c418d",
   "metadata": {},
   "source": [
    "人们使用GPU来进行机器学习，因为单个GPU相对运行速度快。 但是在设备（CPU、GPU和其他机器）之间传输数据比计算慢得多。 这也使得并行化变得更加困难，因为我们必须等待数据被发送（或者接收）， 然后才能继续进行更多的操作。 这就是为什么拷贝操作要格外小心。 根据经验，多个小操作比一个大操作糟糕得多。 此外，一次执行几个操作比代码中散布的许多单个操作要好得多（除非你确信自己在做什么）。 如果一个设备必须等待另一个设备才能执行其他操作， 那么这样的操作可能会阻塞。 这有点像排队订购咖啡，而不像通过电话预先订购： 当你到店的时候，咖啡已经准备好了。\n",
    "\n",
    "最后，当我们打印张量或将张量转换为NumPy格式时， 如果数据不在内存中，框架会首先将其复制到内存中， 这会导致额外的传输开销。 更糟糕的是，它现在受制于全局解释器锁，使得一切都得等待Python完成。"
   ]
  },
  {
   "cell_type": "markdown",
   "id": "b869d41b",
   "metadata": {},
   "source": [
    "## 5.6.3 神经网络与GPU"
   ]
  },
  {
   "cell_type": "markdown",
   "id": "1d896b3c",
   "metadata": {},
   "source": [
    "类似地，神经网络模型可以指定设备。 下面的代码将模型参数放在GPU上。"
   ]
  },
  {
   "cell_type": "code",
   "execution_count": 11,
   "id": "b5f24445",
   "metadata": {},
   "outputs": [],
   "source": [
    "net = nn.Sequential(nn.Linear(3, 1))\n",
    "net = net.to(device=try_gpu())"
   ]
  },
  {
   "cell_type": "markdown",
   "id": "5cc51cea",
   "metadata": {},
   "source": [
    "在接下来的几章中， 我们将看到更多关于如何在GPU上运行模型的例子， 因为它们将变得更加计算密集。\n",
    "\n",
    "当输入为GPU上的张量时，模型将在同一GPU上计算结果。"
   ]
  },
  {
   "cell_type": "code",
   "execution_count": 12,
   "id": "e8c673cd",
   "metadata": {},
   "outputs": [
    {
     "data": {
      "text/plain": [
       "tensor([[0.7449],\n",
       "        [0.7449]], device='cuda:0', grad_fn=<AddmmBackward0>)"
      ]
     },
     "execution_count": 12,
     "metadata": {},
     "output_type": "execute_result"
    }
   ],
   "source": [
    "net(X)"
   ]
  },
  {
   "cell_type": "markdown",
   "id": "2741294c",
   "metadata": {},
   "source": [
    "让我们确认模型参数存储在同一个GPU上。"
   ]
  },
  {
   "cell_type": "code",
   "execution_count": 13,
   "id": "c2fed4d1",
   "metadata": {},
   "outputs": [
    {
     "data": {
      "text/plain": [
       "device(type='cuda', index=0)"
      ]
     },
     "execution_count": 13,
     "metadata": {},
     "output_type": "execute_result"
    }
   ],
   "source": [
    "net[0].weight.data.device"
   ]
  },
  {
   "cell_type": "markdown",
   "id": "d1c1ebf6",
   "metadata": {},
   "source": [
    "总之，只要所有的数据和参数都在同一个设备上， 我们就可以有效地学习模型。 在下面的章节中，我们将看到几个这样的例子。"
   ]
  },
  {
   "cell_type": "markdown",
   "id": "67e05508",
   "metadata": {},
   "source": [
    "## 5.6.4 小结"
   ]
  },
  {
   "cell_type": "markdown",
   "id": "ab2cfbcc",
   "metadata": {},
   "source": [
    "·我们可以指定用于存储和计算的设备，例如CPU或GPU。默认情况下，数据在主内存中创建，然后使用GPU进行过计算。  \n",
    "·深度学习框架要求计算的所有输入数据都在同一设备上，无论是CPU还是GPU。  \n",
    "·不经意地移动数据可能会显著降低性能。一个典型的错误如下：计算GPU上每个小批量的损失，并在命令行中将其报告给用户（或将其记录在NumPy ndarray中）时，将除法全局解释器，从而使所有GPU阻塞。最好是为GPU内部的日志分配内存，并且只移动较大的日志。"
   ]
  }
 ],
 "metadata": {
  "kernelspec": {
   "display_name": "Python 3 (ipykernel)",
   "language": "python",
   "name": "python3"
  },
  "language_info": {
   "codemirror_mode": {
    "name": "ipython",
    "version": 3
   },
   "file_extension": ".py",
   "mimetype": "text/x-python",
   "name": "python",
   "nbconvert_exporter": "python",
   "pygments_lexer": "ipython3",
   "version": "3.9.12"
  }
 },
 "nbformat": 4,
 "nbformat_minor": 5
}
