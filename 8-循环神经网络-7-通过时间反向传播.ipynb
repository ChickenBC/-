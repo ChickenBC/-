{
 "cells": [
  {
   "cell_type": "markdown",
   "id": "5b5a655a",
   "metadata": {},
   "source": [
    "# 8.7 通过时间反向传播"
   ]
  },
  {
   "cell_type": "markdown",
   "id": "b51b969c",
   "metadata": {},
   "source": [
    "## 8.7.1 循环神经网络的梯度分析"
   ]
  },
  {
   "cell_type": "markdown",
   "id": "c8d8533a",
   "metadata": {},
   "source": [
    "### 8.7.1.1. 完全计算"
   ]
  },
  {
   "cell_type": "markdown",
   "id": "1f159e83",
   "metadata": {},
   "source": [
    "### 8.7.1.2. 截断时间步"
   ]
  },
  {
   "cell_type": "markdown",
   "id": "9d92cd24",
   "metadata": {},
   "source": [
    "### 8.7.1.3. 随机截断"
   ]
  },
  {
   "cell_type": "markdown",
   "id": "4fd4e3ff",
   "metadata": {},
   "source": [
    "### 8.7.1.4. 比较策略"
   ]
  },
  {
   "cell_type": "markdown",
   "id": "e23cae9c",
   "metadata": {},
   "source": [
    "## 8.7.2. 通过时间反向传播的细节"
   ]
  },
  {
   "cell_type": "markdown",
   "id": "6ed32987",
   "metadata": {},
   "source": [
    "## 8.7.3. 小结"
   ]
  },
  {
   "cell_type": "markdown",
   "id": "8277f9eb",
   "metadata": {},
   "source": [
    "·“通过时间反向传播”仅仅适用于反向传播在具有隐状态的序列模型。\n",
    "\n",
    "·截断是计算方便性和数值稳定性的需要。截断包括：规则截断和随机截断。\n",
    "\n",
    "·矩阵的高次幂可能导致神经网络特征值的发散或消失，将以梯度爆炸或梯度消失的形式表现。\n",
    "\n",
    "·为了计算的效率，“通过时间反向传播”在计算期间会缓存中间值。"
   ]
  }
 ],
 "metadata": {
  "kernelspec": {
   "display_name": "Python 3 (ipykernel)",
   "language": "python",
   "name": "python3"
  },
  "language_info": {
   "codemirror_mode": {
    "name": "ipython",
    "version": 3
   },
   "file_extension": ".py",
   "mimetype": "text/x-python",
   "name": "python",
   "nbconvert_exporter": "python",
   "pygments_lexer": "ipython3",
   "version": "3.9.13"
  }
 },
 "nbformat": 4,
 "nbformat_minor": 5
}
