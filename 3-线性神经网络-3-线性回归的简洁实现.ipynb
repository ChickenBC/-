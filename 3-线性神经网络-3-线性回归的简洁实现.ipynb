{
 "cells": [
  {
   "cell_type": "markdown",
   "id": "2fd1d20d",
   "metadata": {},
   "source": [
    "# 3.3 线性回归的简洁实现"
   ]
  },
  {
   "cell_type": "markdown",
   "id": "5d2c9444",
   "metadata": {},
   "source": [
    "## 3.3.1 生成数据集"
   ]
  },
  {
   "cell_type": "code",
   "execution_count": 1,
   "id": "41a70e53",
   "metadata": {},
   "outputs": [
    {
     "name": "stderr",
     "output_type": "stream",
     "text": [
      "D:\\anaconda3\\lib\\site-packages\\numpy\\_distributor_init.py:30: UserWarning: loaded more than 1 DLL from .libs:\n",
      "D:\\anaconda3\\lib\\site-packages\\numpy\\.libs\\libopenblas.WCDJNK7YVMPZQ2ME2ZZHJJRJ3JIKNDB7.gfortran-win_amd64.dll\n",
      "D:\\anaconda3\\lib\\site-packages\\numpy\\.libs\\libopenblas.XWYDX2IKJW2NMTWSFYNGFUWKQU3LYTCZ.gfortran-win_amd64.dll\n",
      "  warnings.warn(\"loaded more than 1 DLL from .libs:\"\n"
     ]
    }
   ],
   "source": [
    "import numpy as np\n",
    "import torch\n",
    "from torch.utils import data\n",
    "from d2l import torch as d2l\n",
    "\n",
    "true_w = torch.tensor([2, -3.4])\n",
    "true_b = 4.2\n",
    "features, labels = d2l.synthetic_data(true_w, true_b, 1000)"
   ]
  },
  {
   "cell_type": "code",
   "execution_count": 3,
   "id": "8edf4418",
   "metadata": {},
   "outputs": [
    {
     "name": "stdout",
     "output_type": "stream",
     "text": [
      "Help on function synthetic_data in module d2l.torch:\n",
      "\n",
      "synthetic_data(w, b, num_examples)\n",
      "    Generate y = Xw + b + noise.\n",
      "    \n",
      "    Defined in :numref:`sec_linear_scratch`\n",
      "\n"
     ]
    }
   ],
   "source": [
    "help(d2l.synthetic_data)"
   ]
  },
  {
   "cell_type": "markdown",
   "id": "92c030a3",
   "metadata": {},
   "source": [
    "## 3.3.2 读取数据集"
   ]
  },
  {
   "cell_type": "code",
   "execution_count": 4,
   "id": "057f3c82",
   "metadata": {},
   "outputs": [],
   "source": [
    "#调用框架中现有的API来读取数据\n",
    "#将features和labels作为API的参数传递，并通过数据迭代器指定batch_size\n",
    "#布尔值is_train表示是否希望数据迭代器对象在每个周期内打乱数据\n",
    "\n",
    "def load_array(data_arrays, batch_size, is_train=True): #@save\n",
    "    \"\"\"构造一个Pytorch数据迭代器\"\"\"\n",
    "    dataset = data.TensorDataset(*data_arrays)\n",
    "    return data.DataLoader(dataset, batch_size, shuffle=is_train) #dataloader是一个数据迭代器\n",
    "\n",
    "batch_size = 10\n",
    "#Batch_size是每次喂给模型的样本数量，Epoch_size是训练所有样本总的次数\n",
    "data_iter = load_array((features, labels), batch_size)"
   ]
  },
  {
   "cell_type": "code",
   "execution_count": 5,
   "id": "fd849e76",
   "metadata": {},
   "outputs": [
    {
     "data": {
      "text/plain": [
       "[tensor([[ 0.2143,  0.5266],\n",
       "         [ 2.4342,  0.7887],\n",
       "         [-1.2598,  0.4435],\n",
       "         [ 0.5399, -1.1623],\n",
       "         [-1.8186, -1.3944],\n",
       "         [-1.4565,  1.1335],\n",
       "         [ 1.7259, -0.3287],\n",
       "         [-0.7619,  1.2111],\n",
       "         [-1.1216,  1.3229],\n",
       "         [-1.5798, -0.8276]]),\n",
       " tensor([[ 2.8349],\n",
       "         [ 6.3765],\n",
       "         [ 0.1628],\n",
       "         [ 9.2276],\n",
       "         [ 5.2993],\n",
       "         [-2.5944],\n",
       "         [ 8.7644],\n",
       "         [-1.4391],\n",
       "         [-2.5458],\n",
       "         [ 3.8601]])]"
      ]
     },
     "execution_count": 5,
     "metadata": {},
     "output_type": "execute_result"
    }
   ],
   "source": [
    "next(iter(data_iter))"
   ]
  },
  {
   "cell_type": "code",
   "execution_count": 6,
   "id": "b09d9d78",
   "metadata": {},
   "outputs": [
    {
     "name": "stdout",
     "output_type": "stream",
     "text": [
      "Help on built-in function iter in module builtins:\n",
      "\n",
      "iter(...)\n",
      "    iter(iterable) -> iterator\n",
      "    iter(callable, sentinel) -> iterator\n",
      "    \n",
      "    Get an iterator from an object.  In the first form, the argument must\n",
      "    supply its own iterator, or be a sequence.\n",
      "    In the second form, the callable is called until it returns the sentinel.\n",
      "\n"
     ]
    }
   ],
   "source": [
    "help(iter)"
   ]
  },
  {
   "cell_type": "markdown",
   "id": "77b903bb",
   "metadata": {},
   "source": [
    "## 3.3.3 定义模型"
   ]
  },
  {
   "cell_type": "code",
   "execution_count": 7,
   "id": "2a93adfb",
   "metadata": {},
   "outputs": [],
   "source": [
    "#我们首先定义一个模型变量net，它是一个Sequential类的实例。Sequential类将多个层串联在一起。\n",
    "#当给定输入数据时，Sequential实例将数据传入到第一层，然后将第一层的输出作为第二层的输入，以此类推。\n",
    "\n",
    "#PyTorch中，全连接层在Linear类中定义。\n",
    "#我们将两个参数传递到nn.Linear中，第一个指定输入特征情况，即2，第二个指定输出特征形状，输出特征形状为单个标量，因此为1。\n",
    "\n",
    "#nn是神经网络的缩写\n",
    "from torch import nn\n",
    "net = nn.Sequential(nn.Linear(2, 1))"
   ]
  },
  {
   "cell_type": "markdown",
   "id": "8ee43218",
   "metadata": {},
   "source": [
    "## 3.3.4 初始化模型参数"
   ]
  },
  {
   "cell_type": "code",
   "execution_count": 8,
   "id": "1ad461a2",
   "metadata": {},
   "outputs": [],
   "source": [
    "#在使用net之前我们要初始化模型参数，如在线性回归中的权重和偏置。\n",
    "#我们指定每个权重参数应该从均值为0、标准差为0.01的正态分布中随机采样，偏置参数将初始化为0。"
   ]
  },
  {
   "cell_type": "code",
   "execution_count": 10,
   "id": "33021a59",
   "metadata": {},
   "outputs": [
    {
     "data": {
      "text/plain": [
       "tensor([0.])"
      ]
     },
     "execution_count": 10,
     "metadata": {},
     "output_type": "execute_result"
    }
   ],
   "source": [
    "#我们能直接访问参数以设定它们的初始值。我们通过net[0]选择网络中的第一个图层。\n",
    "#使用weight.data和bias.data方法访问参数，可以使用替换方法normal_和fill_来重写参数\n",
    "net[0].weight.data.normal_(0, 0.01)\n",
    "net[0].bias.data.fill_(0)"
   ]
  },
  {
   "cell_type": "markdown",
   "id": "87baae12",
   "metadata": {},
   "source": [
    "## 3.3.5 定义损失函数"
   ]
  },
  {
   "cell_type": "code",
   "execution_count": 11,
   "id": "cd6dcb44",
   "metadata": {},
   "outputs": [],
   "source": [
    "#计算均方误差使用的是MSELoss类，也称为平方L2范数。默认情况下，它返回所有样本损失的平均值。\n",
    "loss = nn.MSELoss()"
   ]
  },
  {
   "cell_type": "markdown",
   "id": "75e30524",
   "metadata": {},
   "source": [
    "## 3.3.6 定义优化算法"
   ]
  },
  {
   "cell_type": "code",
   "execution_count": 12,
   "id": "0fbccbca",
   "metadata": {},
   "outputs": [],
   "source": [
    "#小批量随机梯度下降算法是一种优化神经网络的标准工具，Pytorch在optim模块中实现了该算法的许多变种。\n",
    "#当我们实例化一个SGD实例时，我们需要指定优化的参数以及优化算法所需要的超参数字典。小批量随机梯度下降只需要设置lr值，这里设置为0.03\n",
    "trainer = torch.optim.SGD(net.parameters(), lr=0.03)"
   ]
  },
  {
   "cell_type": "markdown",
   "id": "433265cb",
   "metadata": {},
   "source": [
    "## 3.3.7 训练"
   ]
  },
  {
   "cell_type": "code",
   "execution_count": 13,
   "id": "011d03f2",
   "metadata": {},
   "outputs": [],
   "source": [
    "#回顾：在每个迭代周期里我们将完整遍历一次数据集(train_data)，不停地从中获取一个小批量的输入和相应的标签。\n",
    "#对于每一个小批量会进行以下步骤：1.通过调用net(X)生成预测并计算损失l（前向传播）；\n",
    "#2.通过反向传播来计算梯度； 3.通过调用优化器来更新模型参数"
   ]
  },
  {
   "cell_type": "code",
   "execution_count": 21,
   "id": "699d9bcd",
   "metadata": {},
   "outputs": [
    {
     "name": "stdout",
     "output_type": "stream",
     "text": [
      "epoch 1, loss 0.000094\n",
      "epoch 2, loss 0.000095\n",
      "epoch 3, loss 0.000095\n"
     ]
    }
   ],
   "source": [
    "#为了更好的衡量训练效果，我们计算每个迭代周期后的损失，并打印它来监控训练过程。\n",
    "num_epoches = 3\n",
    "for epoch in range(num_epoches):\n",
    "    for X, y in data_iter:\n",
    "        l = loss(net(X), y)\n",
    "        trainer.zero_grad() #每次调用SGD之后都要清空，因为我们进行的是小批量梯度下降\n",
    "        l.backward()\n",
    "        trainer.step() #step更新所有的参数，进行单次优化\n",
    "    l = loss(net(features), labels) # 完成一次迭代之后查看我们的损失函数的值\n",
    "    print(f'epoch {epoch + 1}, loss {l:f}')"
   ]
  },
  {
   "cell_type": "code",
   "execution_count": 18,
   "id": "3ed4a7bb",
   "metadata": {},
   "outputs": [
    {
     "name": "stdout",
     "output_type": "stream",
     "text": [
      "Help on NoneType object:\n",
      "\n",
      "class NoneType(object)\n",
      " |  Methods defined here:\n",
      " |  \n",
      " |  __bool__(self, /)\n",
      " |      self != 0\n",
      " |  \n",
      " |  __repr__(self, /)\n",
      " |      Return repr(self).\n",
      " |  \n",
      " |  ----------------------------------------------------------------------\n",
      " |  Static methods defined here:\n",
      " |  \n",
      " |  __new__(*args, **kwargs) from builtins.type\n",
      " |      Create and return a new object.  See help(type) for accurate signature.\n",
      "\n"
     ]
    }
   ],
   "source": [
    "help(trainer.step())"
   ]
  },
  {
   "cell_type": "code",
   "execution_count": 22,
   "id": "a3d7d7a0",
   "metadata": {},
   "outputs": [
    {
     "name": "stdout",
     "output_type": "stream",
     "text": [
      "w的估计误差： tensor([-0.0008, -0.0009])\n",
      "b的估计误差： tensor([7.1526e-06])\n"
     ]
    }
   ],
   "source": [
    "w = net[0].weight.data\n",
    "print('w的估计误差：', true_w - w.reshape(true_w.shape))\n",
    "b = net[0].bias.data\n",
    "print('b的估计误差：', true_b - b)"
   ]
  },
  {
   "cell_type": "markdown",
   "id": "47512bca",
   "metadata": {},
   "source": [
    "## 3.3.8 小结"
   ]
  },
  {
   "cell_type": "code",
   "execution_count": 23,
   "id": "50462f34",
   "metadata": {},
   "outputs": [],
   "source": [
    "#我们可以使用PyTorch的高级API更简洁地实现模型\n",
    "#在Pytorch中，data模块提供了数据处理工具，nn模块定义了大量的神经网络层和常见损失函数。\n",
    "#我们可以通过_结尾的方法将参数替换，从而初始化参数。"
   ]
  }
 ],
 "metadata": {
  "kernelspec": {
   "display_name": "Python 3 (ipykernel)",
   "language": "python",
   "name": "python3"
  },
  "language_info": {
   "codemirror_mode": {
    "name": "ipython",
    "version": 3
   },
   "file_extension": ".py",
   "mimetype": "text/x-python",
   "name": "python",
   "nbconvert_exporter": "python",
   "pygments_lexer": "ipython3",
   "version": "3.8.8"
  }
 },
 "nbformat": 4,
 "nbformat_minor": 5
}
