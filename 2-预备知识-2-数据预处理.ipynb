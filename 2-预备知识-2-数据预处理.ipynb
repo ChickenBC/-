{
 "cells": [
  {
   "cell_type": "markdown",
   "id": "7af65b69",
   "metadata": {},
   "source": [
    "# 2.2 数据预处理"
   ]
  },
  {
   "cell_type": "code",
   "execution_count": 1,
   "id": "2500b605",
   "metadata": {},
   "outputs": [],
   "source": [
    "#Python中常用的数据分析工具是pandas软件包\n",
    "#本节主要使用pandas预处理原始数据，并将原始数据转换为张量格式"
   ]
  },
  {
   "cell_type": "markdown",
   "id": "3af16c79",
   "metadata": {},
   "source": [
    "## 2.2.1 读取数据集"
   ]
  },
  {
   "cell_type": "code",
   "execution_count": 20,
   "id": "a71de47c",
   "metadata": {},
   "outputs": [],
   "source": [
    "#首先创建一个人工数据集，并存储在CSV文件中\n",
    "import os\n",
    "\n",
    "os.makedirs(os.path.join('..', 'data'), exist_ok=True)\n",
    "data_file = os.path.join('..', 'data', 'house_tiny.csv')\n",
    "with open(data_file, 'w') as f:\n",
    "    f.write('NumRooms, Alley, Price\\n')  #列名\n",
    "    f.write('NA,Pave,140000\\n') #每行表示一个数据样本\n",
    "    f.write('2,NA,106000\\n')\n",
    "    f.write('4,NA,178100\\n')\n",
    "    f.write('NA,NA,140000\\n')"
   ]
  },
  {
   "cell_type": "code",
   "execution_count": 21,
   "id": "2cfb3fb1",
   "metadata": {},
   "outputs": [
    {
     "name": "stdout",
     "output_type": "stream",
     "text": [
      "   NumRooms  Alley   Price\n",
      "0       NaN   Pave  140000\n",
      "1       2.0    NaN  106000\n",
      "2       4.0    NaN  178100\n",
      "3       NaN    NaN  140000\n"
     ]
    }
   ],
   "source": [
    "#从创建的csv文件中加载原始数据集，导入pandas包并调用read_csv函数\n",
    "import pandas as pd\n",
    "\n",
    "data = pd.read_csv(data_file)\n",
    "print(data)"
   ]
  },
  {
   "cell_type": "markdown",
   "id": "5cc7665d",
   "metadata": {},
   "source": [
    "## 2.2.2 处理缺失值"
   ]
  },
  {
   "cell_type": "code",
   "execution_count": 22,
   "id": "a485af48",
   "metadata": {},
   "outputs": [
    {
     "name": "stdout",
     "output_type": "stream",
     "text": [
      "   NumRooms  Alley\n",
      "0       3.0   Pave\n",
      "1       2.0    NaN\n",
      "2       4.0    NaN\n",
      "3       3.0    NaN\n"
     ]
    },
    {
     "name": "stderr",
     "output_type": "stream",
     "text": [
      "C:\\Users\\yangjb\\AppData\\Local\\Temp\\ipykernel_15140\\133139320.py:6: FutureWarning: Dropping of nuisance columns in DataFrame reductions (with 'numeric_only=None') is deprecated; in a future version this will raise TypeError.  Select only valid columns before calling the reduction.\n",
      "  inputs = inputs.fillna(inputs.mean())\n"
     ]
    }
   ],
   "source": [
    "#NaN代表缺失值，为了处理缺失的数据，典型的方法包含插值法和删除法。其中插值法用一个替代值弥补缺失值，删除法直接忽略掉缺失值。\n",
    "\n",
    "#通过索引iloc，将data分成inputs和outputs。对于inputs中缺少的值，用同一列均值替换NaN项\n",
    "\n",
    "inputs, outputs = data.iloc[:, 0:2], data.iloc[:, 2]\n",
    "inputs = inputs.fillna(inputs.mean())\n",
    "print(inputs)"
   ]
  },
  {
   "cell_type": "code",
   "execution_count": 23,
   "id": "9eb9dc57",
   "metadata": {},
   "outputs": [
    {
     "name": "stdout",
     "output_type": "stream",
     "text": [
      "   NumRooms   Alley_Pave   Alley_nan\n",
      "0       3.0            1           0\n",
      "1       2.0            0           1\n",
      "2       4.0            0           1\n",
      "3       3.0            0           1\n"
     ]
    }
   ],
   "source": [
    "#对于inputs中的类别值或离散值，将NaN视为一个类别。由于巷子类型NaN列只接受两种类别值Pave和NaN，pandas可以将两列转换为Alley_Pave和Alley_nan\n",
    "inputs = pd.get_dummies(inputs, dummy_na=True)\n",
    "print(inputs)"
   ]
  },
  {
   "cell_type": "markdown",
   "id": "dc9dc663",
   "metadata": {},
   "source": [
    "## 2.2.3 转换为张量格式"
   ]
  },
  {
   "cell_type": "code",
   "execution_count": 25,
   "id": "14d782e2",
   "metadata": {},
   "outputs": [
    {
     "data": {
      "text/plain": [
       "(tensor([[3., 1., 0.],\n",
       "         [2., 0., 1.],\n",
       "         [4., 0., 1.],\n",
       "         [3., 0., 1.]], dtype=torch.float64),\n",
       " tensor([140000, 106000, 178100, 140000]))"
      ]
     },
     "execution_count": 25,
     "metadata": {},
     "output_type": "execute_result"
    }
   ],
   "source": [
    "#inputs和outputs中的所有条目都是数值类型，它们可以转换为张量格式\n",
    "import torch\n",
    "X, y = torch.tensor(inputs.values), torch.tensor(outputs.values)\n",
    "X, y"
   ]
  },
  {
   "cell_type": "markdown",
   "id": "50201e83",
   "metadata": {},
   "source": [
    "## 2.2.4 小结"
   ]
  },
  {
   "cell_type": "code",
   "execution_count": null,
   "id": "07857808",
   "metadata": {},
   "outputs": [],
   "source": [
    "#pandas可以与张量兼容\n",
    "#用pandas处理数据时，可以根据情况选择插值法和删除法"
   ]
  },
  {
   "cell_type": "markdown",
   "id": "cdc2e356",
   "metadata": {},
   "source": [
    "## 2.2.5"
   ]
  },
  {
   "cell_type": "code",
   "execution_count": 55,
   "id": "ec73fee1",
   "metadata": {},
   "outputs": [
    {
     "data": {
      "text/html": [
       "<div>\n",
       "<style scoped>\n",
       "    .dataframe tbody tr th:only-of-type {\n",
       "        vertical-align: middle;\n",
       "    }\n",
       "\n",
       "    .dataframe tbody tr th {\n",
       "        vertical-align: top;\n",
       "    }\n",
       "\n",
       "    .dataframe thead th {\n",
       "        text-align: right;\n",
       "    }\n",
       "</style>\n",
       "<table border=\"1\" class=\"dataframe\">\n",
       "  <thead>\n",
       "    <tr style=\"text-align: right;\">\n",
       "      <th></th>\n",
       "      <th>NumRooms</th>\n",
       "      <th>Alley</th>\n",
       "      <th>Price</th>\n",
       "    </tr>\n",
       "  </thead>\n",
       "  <tbody>\n",
       "    <tr>\n",
       "      <th>0</th>\n",
       "      <td>NaN</td>\n",
       "      <td>Pave</td>\n",
       "      <td>140000</td>\n",
       "    </tr>\n",
       "    <tr>\n",
       "      <th>1</th>\n",
       "      <td>2.0</td>\n",
       "      <td>NaN</td>\n",
       "      <td>106000</td>\n",
       "    </tr>\n",
       "    <tr>\n",
       "      <th>2</th>\n",
       "      <td>4.0</td>\n",
       "      <td>NaN</td>\n",
       "      <td>178100</td>\n",
       "    </tr>\n",
       "    <tr>\n",
       "      <th>3</th>\n",
       "      <td>NaN</td>\n",
       "      <td>NaN</td>\n",
       "      <td>140000</td>\n",
       "    </tr>\n",
       "  </tbody>\n",
       "</table>\n",
       "</div>"
      ],
      "text/plain": [
       "   NumRooms Alley   Price\n",
       "0       NaN  Pave  140000\n",
       "1       2.0   NaN  106000\n",
       "2       4.0   NaN  178100\n",
       "3       NaN   NaN  140000"
      ]
     },
     "execution_count": 55,
     "metadata": {},
     "output_type": "execute_result"
    }
   ],
   "source": [
    "#删除缺失值最多的列\n",
    "import os\n",
    "\n",
    "os.makedirs(os.path.join('..', 'data'), exist_ok=True)\n",
    "data_file2 = os.path.join('..', 'data', 'house.csv')\n",
    "with open(data_file2, 'w') as f:\n",
    "    f.write('NumRooms, Alley, Price\\n')  #列名\n",
    "    f.write('NA,Pave,140000\\n') #每行表示一个数据样本\n",
    "    f.write('2,NA,106000\\n')\n",
    "    f.write('4,NA,178100\\n')\n",
    "    f.write('NA,NA,140000\\n')\n",
    "data2 = pd.read_csv(data_file2) \n",
    "data2.columns = ['NumRooms', 'Alley', 'Price'] #创建列索引,若不创建则后面无法调取，会导致运行bug\n",
    "data2"
   ]
  },
  {
   "cell_type": "code",
   "execution_count": 56,
   "id": "f1f80310",
   "metadata": {},
   "outputs": [
    {
     "data": {
      "text/html": [
       "<div>\n",
       "<style scoped>\n",
       "    .dataframe tbody tr th:only-of-type {\n",
       "        vertical-align: middle;\n",
       "    }\n",
       "\n",
       "    .dataframe tbody tr th {\n",
       "        vertical-align: top;\n",
       "    }\n",
       "\n",
       "    .dataframe thead th {\n",
       "        text-align: right;\n",
       "    }\n",
       "</style>\n",
       "<table border=\"1\" class=\"dataframe\">\n",
       "  <thead>\n",
       "    <tr style=\"text-align: right;\">\n",
       "      <th></th>\n",
       "      <th>NumRooms</th>\n",
       "      <th>Price</th>\n",
       "    </tr>\n",
       "  </thead>\n",
       "  <tbody>\n",
       "    <tr>\n",
       "      <th>0</th>\n",
       "      <td>NaN</td>\n",
       "      <td>140000</td>\n",
       "    </tr>\n",
       "    <tr>\n",
       "      <th>1</th>\n",
       "      <td>2.0</td>\n",
       "      <td>106000</td>\n",
       "    </tr>\n",
       "    <tr>\n",
       "      <th>2</th>\n",
       "      <td>4.0</td>\n",
       "      <td>178100</td>\n",
       "    </tr>\n",
       "    <tr>\n",
       "      <th>3</th>\n",
       "      <td>NaN</td>\n",
       "      <td>140000</td>\n",
       "    </tr>\n",
       "  </tbody>\n",
       "</table>\n",
       "</div>"
      ],
      "text/plain": [
       "   NumRooms   Price\n",
       "0       NaN  140000\n",
       "1       2.0  106000\n",
       "2       4.0  178100\n",
       "3       NaN  140000"
      ]
     },
     "execution_count": 56,
     "metadata": {},
     "output_type": "execute_result"
    }
   ],
   "source": [
    "count = 0\n",
    "count_max = 0\n",
    "labels = ['NumRooms', 'Alley', 'Price']\n",
    "for label in labels:\n",
    "    count = data2[label].isna().sum()\n",
    "    if count > count_max:\n",
    "        count = count_max\n",
    "        flag = label\n",
    "data_new = data2.drop(flag, axis=1)\n",
    "data_new"
   ]
  },
  {
   "cell_type": "code",
   "execution_count": 57,
   "id": "113bf41c",
   "metadata": {},
   "outputs": [
    {
     "data": {
      "text/plain": [
       "tensor([[       nan, 1.4000e+05],\n",
       "        [2.0000e+00, 1.0600e+05],\n",
       "        [4.0000e+00, 1.7810e+05],\n",
       "        [       nan, 1.4000e+05]], dtype=torch.float64)"
      ]
     },
     "execution_count": 57,
     "metadata": {},
     "output_type": "execute_result"
    }
   ],
   "source": [
    "#将预处理后的数据集转换为张量格式\n",
    "torch.tensor(data_new.values)"
   ]
  }
 ],
 "metadata": {
  "kernelspec": {
   "display_name": "Python [conda env:pytorch]",
   "language": "python",
   "name": "conda-env-pytorch-py"
  },
  "language_info": {
   "codemirror_mode": {
    "name": "ipython",
    "version": 3
   },
   "file_extension": ".py",
   "mimetype": "text/x-python",
   "name": "python",
   "nbconvert_exporter": "python",
   "pygments_lexer": "ipython3",
   "version": "3.8.12"
  }
 },
 "nbformat": 4,
 "nbformat_minor": 5
}
