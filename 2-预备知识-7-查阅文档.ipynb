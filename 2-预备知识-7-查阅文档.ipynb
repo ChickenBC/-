{
 "cells": [
  {
   "cell_type": "markdown",
   "id": "5574388a",
   "metadata": {},
   "source": [
    "# 2.7 查阅文档"
   ]
  },
  {
   "cell_type": "markdown",
   "id": "24b5c44d",
   "metadata": {},
   "source": [
    "## 2.7.1 查找模块中的所有函数和类"
   ]
  },
  {
   "cell_type": "code",
   "execution_count": 1,
   "id": "b3684a9c",
   "metadata": {},
   "outputs": [
    {
     "name": "stderr",
     "output_type": "stream",
     "text": [
      "D:\\anaconda3\\lib\\site-packages\\numpy\\_distributor_init.py:30: UserWarning: loaded more than 1 DLL from .libs:\n",
      "D:\\anaconda3\\lib\\site-packages\\numpy\\.libs\\libopenblas.WCDJNK7YVMPZQ2ME2ZZHJJRJ3JIKNDB7.gfortran-win_amd64.dll\n",
      "D:\\anaconda3\\lib\\site-packages\\numpy\\.libs\\libopenblas.XWYDX2IKJW2NMTWSFYNGFUWKQU3LYTCZ.gfortran-win_amd64.dll\n",
      "  warnings.warn(\"loaded more than 1 DLL from .libs:\"\n"
     ]
    },
    {
     "name": "stdout",
     "output_type": "stream",
     "text": [
      "['AbsTransform', 'AffineTransform', 'Bernoulli', 'Beta', 'Binomial', 'CatTransform', 'Categorical', 'Cauchy', 'Chi2', 'ComposeTransform', 'ContinuousBernoulli', 'CorrCholeskyTransform', 'Dirichlet', 'Distribution', 'ExpTransform', 'Exponential', 'ExponentialFamily', 'FisherSnedecor', 'Gamma', 'Geometric', 'Gumbel', 'HalfCauchy', 'HalfNormal', 'Independent', 'IndependentTransform', 'Kumaraswamy', 'LKJCholesky', 'Laplace', 'LogNormal', 'LogisticNormal', 'LowRankMultivariateNormal', 'LowerCholeskyTransform', 'MixtureSameFamily', 'Multinomial', 'MultivariateNormal', 'NegativeBinomial', 'Normal', 'OneHotCategorical', 'OneHotCategoricalStraightThrough', 'Pareto', 'Poisson', 'PowerTransform', 'RelaxedBernoulli', 'RelaxedOneHotCategorical', 'ReshapeTransform', 'SigmoidTransform', 'SoftmaxTransform', 'StackTransform', 'StickBreakingTransform', 'StudentT', 'TanhTransform', 'Transform', 'TransformedDistribution', 'Uniform', 'VonMises', 'Weibull', '__all__', '__builtins__', '__cached__', '__doc__', '__file__', '__loader__', '__name__', '__package__', '__path__', '__spec__', 'bernoulli', 'beta', 'biject_to', 'binomial', 'categorical', 'cauchy', 'chi2', 'constraint_registry', 'constraints', 'continuous_bernoulli', 'dirichlet', 'distribution', 'exp_family', 'exponential', 'fishersnedecor', 'gamma', 'geometric', 'gumbel', 'half_cauchy', 'half_normal', 'identity_transform', 'independent', 'kl', 'kl_divergence', 'kumaraswamy', 'laplace', 'lkj_cholesky', 'log_normal', 'logistic_normal', 'lowrank_multivariate_normal', 'mixture_same_family', 'multinomial', 'multivariate_normal', 'negative_binomial', 'normal', 'one_hot_categorical', 'pareto', 'poisson', 'register_kl', 'relaxed_bernoulli', 'relaxed_categorical', 'studentT', 'transform_to', 'transformed_distribution', 'transforms', 'uniform', 'utils', 'von_mises', 'weibull']\n"
     ]
    }
   ],
   "source": [
    "#为了知道模块中可以调用哪些函数和类，我们调用dir函数\n",
    "\n",
    "import torch\n",
    "print(dir(torch.distributions))"
   ]
  },
  {
   "cell_type": "code",
   "execution_count": 2,
   "id": "773e5d44",
   "metadata": {},
   "outputs": [],
   "source": [
    "#通常，我们可以忽略以“__”（双下划线）开始和结束的函数（它们是Python中的特殊对象）\n",
    "#或以单个“_”（单下划线）开始的函数（它们通常是内部函数）。 \n",
    "#根据剩余的函数名或属性名，我们可能会猜测这个模块提供了各种生成随机数的方法\n",
    "#包括从均匀分布（uniform）、正态分布（normal）和多项分布（multinomial）中采样。"
   ]
  },
  {
   "cell_type": "markdown",
   "id": "f4516222",
   "metadata": {},
   "source": [
    "## 2.7.2 查找特定函数和类的用法"
   ]
  },
  {
   "cell_type": "code",
   "execution_count": 3,
   "id": "279e789a",
   "metadata": {},
   "outputs": [
    {
     "name": "stdout",
     "output_type": "stream",
     "text": [
      "Help on built-in function ones:\n",
      "\n",
      "ones(...)\n",
      "    ones(*size, *, out=None, dtype=None, layout=torch.strided, device=None, requires_grad=False) -> Tensor\n",
      "    \n",
      "    Returns a tensor filled with the scalar value `1`, with the shape defined\n",
      "    by the variable argument :attr:`size`.\n",
      "    \n",
      "    Args:\n",
      "        size (int...): a sequence of integers defining the shape of the output tensor.\n",
      "            Can be a variable number of arguments or a collection like a list or tuple.\n",
      "    \n",
      "    Keyword arguments:\n",
      "        out (Tensor, optional): the output tensor.\n",
      "        dtype (:class:`torch.dtype`, optional): the desired data type of returned tensor.\n",
      "            Default: if ``None``, uses a global default (see :func:`torch.set_default_tensor_type`).\n",
      "        layout (:class:`torch.layout`, optional): the desired layout of returned Tensor.\n",
      "            Default: ``torch.strided``.\n",
      "        device (:class:`torch.device`, optional): the desired device of returned tensor.\n",
      "            Default: if ``None``, uses the current device for the default tensor type\n",
      "            (see :func:`torch.set_default_tensor_type`). :attr:`device` will be the CPU\n",
      "            for CPU tensor types and the current CUDA device for CUDA tensor types.\n",
      "        requires_grad (bool, optional): If autograd should record operations on the\n",
      "            returned tensor. Default: ``False``.\n",
      "    \n",
      "    Example::\n",
      "    \n",
      "        >>> torch.ones(2, 3)\n",
      "        tensor([[ 1.,  1.,  1.],\n",
      "                [ 1.,  1.,  1.]])\n",
      "    \n",
      "        >>> torch.ones(5)\n",
      "        tensor([ 1.,  1.,  1.,  1.,  1.])\n",
      "\n"
     ]
    }
   ],
   "source": [
    "help(torch.ones)"
   ]
  },
  {
   "cell_type": "code",
   "execution_count": 4,
   "id": "5982068d",
   "metadata": {},
   "outputs": [
    {
     "data": {
      "text/plain": [
       "tensor([1., 1., 1., 1.])"
      ]
     },
     "execution_count": 4,
     "metadata": {},
     "output_type": "execute_result"
    }
   ],
   "source": [
    "#从文档中可以看到ones函数创建一个具有指定形状的新张量，并将所有元素值设置为1\n",
    "torch.ones(4)"
   ]
  },
  {
   "cell_type": "code",
   "execution_count": 5,
   "id": "95372fb7",
   "metadata": {},
   "outputs": [],
   "source": [
    "#在Jupyter记事本中，我们可以使用?指令在另一个浏览器窗口中显示文档\n",
    "#例如，list?指令将创建与help(list)指令几乎相同的内容，并在新的浏览器窗口中显示它。\n",
    "#如果我们使用两个问号，如list??，将显示实现该函数的Python代码。"
   ]
  },
  {
   "cell_type": "code",
   "execution_count": 6,
   "id": "6d28662e",
   "metadata": {},
   "outputs": [],
   "source": [
    "torch.ones?"
   ]
  },
  {
   "cell_type": "code",
   "execution_count": 7,
   "id": "16554447",
   "metadata": {},
   "outputs": [],
   "source": [
    "torch.ones??"
   ]
  },
  {
   "cell_type": "markdown",
   "id": "bd715b0f",
   "metadata": {},
   "source": [
    "## 2.7.3 小结"
   ]
  },
  {
   "cell_type": "code",
   "execution_count": 8,
   "id": "e7700e0c",
   "metadata": {},
   "outputs": [],
   "source": [
    "#官方文档提供了书本之外的的大量描述和示例\n",
    "#我们可以通过调用dir和help函数或在Jupyter记事本中使用?和??查看API的用法文档"
   ]
  },
  {
   "cell_type": "markdown",
   "id": "9936b0bf",
   "metadata": {},
   "source": [
    "## 2.7.4 练习"
   ]
  },
  {
   "cell_type": "code",
   "execution_count": 9,
   "id": "787f3f16",
   "metadata": {},
   "outputs": [],
   "source": [
    "#在深度学习框架中查找任何函数或类的文档。你能在这个框架的官方网站上找到文档吗?\n",
    "\n",
    "#能"
   ]
  }
 ],
 "metadata": {
  "kernelspec": {
   "display_name": "Python 3 (ipykernel)",
   "language": "python",
   "name": "python3"
  },
  "language_info": {
   "codemirror_mode": {
    "name": "ipython",
    "version": 3
   },
   "file_extension": ".py",
   "mimetype": "text/x-python",
   "name": "python",
   "nbconvert_exporter": "python",
   "pygments_lexer": "ipython3",
   "version": "3.8.8"
  }
 },
 "nbformat": 4,
 "nbformat_minor": 5
}
