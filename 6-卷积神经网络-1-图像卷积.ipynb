{
 "cells": [
  {
   "cell_type": "markdown",
   "id": "7cc65d73",
   "metadata": {},
   "source": [
    "# 6.1 从全连接层到卷积"
   ]
  },
  {
   "cell_type": "markdown",
   "id": "d2e93497",
   "metadata": {},
   "source": [
    "## 6.1.1 不变性"
   ]
  },
  {
   "cell_type": "markdown",
   "id": "e8b62d1c",
   "metadata": {},
   "source": [
    "卷积神经网络是将空间不变性这一概念系统化，从而基于这个模型使用较少的参数来学习有用的表示。  \n",
    "将上述想法总结一下：  \n",
    "1.平移不变性：不管检测对象出现在图像中的哪个位置，神经网络的前面几层应该对相同的图像区域具有相似的反应，即为“平移不变性”。  \n",
    "2.局部性：神经网络的前面几层应该只探索输入图像中的局部区域，而不过度在意图像中相隔较远区域的关系，这就是“局部性”原则。最终可以结合这些局部特征，以在整个图像级别进行预测。"
   ]
  },
  {
   "cell_type": "markdown",
   "id": "e3bc2e4b",
   "metadata": {},
   "source": [
    "## 6.1.2 多层感知机的限制"
   ]
  },
  {
   "cell_type": "markdown",
   "id": "d130253b",
   "metadata": {},
   "source": [
    "卷积神经网络是包含卷积层的一类特殊的神经网络。V被称为卷积核或滤波器，亦或简单地称之为该卷积层的权重，通常该权重是可学习的参数。"
   ]
  },
  {
   "cell_type": "markdown",
   "id": "f56a22c6",
   "metadata": {},
   "source": [
    "### 6.1.2.1 平移不变性"
   ]
  },
  {
   "cell_type": "markdown",
   "id": "85eff1e4",
   "metadata": {},
   "source": [
    "### 6.1.2.2 局部性"
   ]
  },
  {
   "cell_type": "markdown",
   "id": "b8d8a179",
   "metadata": {},
   "source": [
    "## 6.1.3 卷积"
   ]
  },
  {
   "cell_type": "markdown",
   "id": "b38c0b4a",
   "metadata": {},
   "source": [
    "卷积是当把一个函数“翻转”并移位x时，测量f和g之间的重叠。"
   ]
  },
  {
   "cell_type": "markdown",
   "id": "595abfcb",
   "metadata": {},
   "source": [
    "## 6.1.4 “沃尔多在哪里”回顾"
   ]
  },
  {
   "cell_type": "markdown",
   "id": "8fbc0de9",
   "metadata": {},
   "source": [
    "### 6.1.4.1 通道"
   ]
  },
  {
   "cell_type": "markdown",
   "id": "aa2ce2b2",
   "metadata": {},
   "source": [
    "图像是由高度、宽度和颜色组成的三维张量。"
   ]
  },
  {
   "cell_type": "markdown",
   "id": "c034737d",
   "metadata": {},
   "source": [
    "## 6.1.5 小结"
   ]
  },
  {
   "cell_type": "markdown",
   "id": "63e9e25d",
   "metadata": {},
   "source": [
    "·图像的平移不变性使我们以相同的方式处理局部图像，而不在乎它的位置。   \n",
    "·局部性意味着计算相应的隐藏表示只需一小部分局部图像像素。  \n",
    "·在图像处理中，卷积层通常比全连接层需要更少的参数，但依旧获得高效用的模型。  \n",
    "·卷积神经网络（CNN）是一类特殊的神经网络，它可以包含多个卷积层。  \n",
    "·多个输入和输出通道使模型在每个空间位置可以获得图像的多方面特征。"
   ]
  }
 ],
 "metadata": {
  "kernelspec": {
   "display_name": "Python 3 (ipykernel)",
   "language": "python",
   "name": "python3"
  },
  "language_info": {
   "codemirror_mode": {
    "name": "ipython",
    "version": 3
   },
   "file_extension": ".py",
   "mimetype": "text/x-python",
   "name": "python",
   "nbconvert_exporter": "python",
   "pygments_lexer": "ipython3",
   "version": "3.9.12"
  }
 },
 "nbformat": 4,
 "nbformat_minor": 5
}
