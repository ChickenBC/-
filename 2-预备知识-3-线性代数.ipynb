{
 "cells": [
  {
   "cell_type": "markdown",
   "id": "9ae1eb2c",
   "metadata": {},
   "source": [
    "# 2.3 线性代数"
   ]
  },
  {
   "cell_type": "code",
   "execution_count": 1,
   "id": "c047b0db",
   "metadata": {},
   "outputs": [],
   "source": [
    "#本节将介绍线性代数中的基本数学对象、算术和云南算"
   ]
  },
  {
   "cell_type": "markdown",
   "id": "748656a5",
   "metadata": {},
   "source": [
    "## 2.3.1 标量"
   ]
  },
  {
   "cell_type": "code",
   "execution_count": 2,
   "id": "489368e7",
   "metadata": {},
   "outputs": [
    {
     "data": {
      "text/plain": [
       "(tensor(5.), tensor(6.), tensor(1.5000), tensor(9.))"
      ]
     },
     "execution_count": 2,
     "metadata": {},
     "output_type": "execute_result"
    }
   ],
   "source": [
    "#仅包含一个数值的叫标量, 未知的标量称为变量\n",
    "#标量由只有一个元素的张量表示\n",
    "import torch\n",
    "x = torch.tensor(3.0)\n",
    "y = torch.tensor(2.0)\n",
    "x + y, x * y, x / y, x ** y"
   ]
  },
  {
   "cell_type": "markdown",
   "id": "a510ae91",
   "metadata": {},
   "source": [
    "## 2.3.2 向量"
   ]
  },
  {
   "cell_type": "code",
   "execution_count": 3,
   "id": "4ae2d4df",
   "metadata": {},
   "outputs": [
    {
     "data": {
      "text/plain": [
       "tensor([0, 1, 2, 3])"
      ]
     },
     "execution_count": 3,
     "metadata": {},
     "output_type": "execute_result"
    }
   ],
   "source": [
    "#可以将向量视为标量值组成的列表，将这些标量值成为向量的元素或分量。\n",
    "x = torch.arange(4)\n",
    "x"
   ]
  },
  {
   "cell_type": "code",
   "execution_count": 4,
   "id": "7bccf202",
   "metadata": {},
   "outputs": [
    {
     "data": {
      "text/plain": [
       "tensor(3)"
      ]
     },
     "execution_count": 4,
     "metadata": {},
     "output_type": "execute_result"
    }
   ],
   "source": [
    "#可以使用下标来引用向量的任一元素\n",
    "x[3]"
   ]
  },
  {
   "cell_type": "markdown",
   "id": "4202d934",
   "metadata": {},
   "source": [
    "### 2.3.2.1 长度、维度和形状"
   ]
  },
  {
   "cell_type": "code",
   "execution_count": 5,
   "id": "d32b83db",
   "metadata": {},
   "outputs": [
    {
     "data": {
      "text/plain": [
       "4"
      ]
     },
     "execution_count": 5,
     "metadata": {},
     "output_type": "execute_result"
    }
   ],
   "source": [
    "#向量的长度通常称为向量的维度\n",
    "len(x)"
   ]
  },
  {
   "cell_type": "code",
   "execution_count": 6,
   "id": "9a2238b7",
   "metadata": {},
   "outputs": [
    {
     "data": {
      "text/plain": [
       "torch.Size([4])"
      ]
     },
     "execution_count": 6,
     "metadata": {},
     "output_type": "execute_result"
    }
   ],
   "source": [
    "#当用张量表示一个向量时，可以i通过shape属性访问向量的长度\n",
    "x.shape"
   ]
  },
  {
   "cell_type": "code",
   "execution_count": 7,
   "id": "b22e1628",
   "metadata": {},
   "outputs": [],
   "source": [
    "#向量或轴的维度被用来表示向量或轴的长度，即向量或轴的元素数量\n",
    "#张量的维度用来表示张量具有的轴数"
   ]
  },
  {
   "cell_type": "markdown",
   "id": "e0c612c6",
   "metadata": {},
   "source": [
    "## 2.3.3 矩阵"
   ]
  },
  {
   "cell_type": "code",
   "execution_count": 8,
   "id": "f69d7200",
   "metadata": {},
   "outputs": [
    {
     "data": {
      "text/plain": [
       "tensor([[ 0,  1,  2,  3],\n",
       "        [ 4,  5,  6,  7],\n",
       "        [ 8,  9, 10, 11],\n",
       "        [12, 13, 14, 15],\n",
       "        [16, 17, 18, 19]])"
      ]
     },
     "execution_count": 8,
     "metadata": {},
     "output_type": "execute_result"
    }
   ],
   "source": [
    "#矩阵，在代码中表示为具有两个轴的张量，可以通过指定两个分量来创建一个形状为m * n的矩阵\n",
    "A = torch.arange(20).reshape(5, 4)\n",
    "A"
   ]
  },
  {
   "cell_type": "code",
   "execution_count": 9,
   "id": "2ebe07b7",
   "metadata": {},
   "outputs": [
    {
     "data": {
      "text/plain": [
       "tensor([[ 0,  4,  8, 12, 16],\n",
       "        [ 1,  5,  9, 13, 17],\n",
       "        [ 2,  6, 10, 14, 18],\n",
       "        [ 3,  7, 11, 15, 19]])"
      ]
     },
     "execution_count": 9,
     "metadata": {},
     "output_type": "execute_result"
    }
   ],
   "source": [
    "#矩阵的转置\n",
    "A.T"
   ]
  },
  {
   "cell_type": "code",
   "execution_count": 10,
   "id": "e2ff35b1",
   "metadata": {},
   "outputs": [
    {
     "data": {
      "text/plain": [
       "tensor([[1, 2, 3],\n",
       "        [2, 0, 4],\n",
       "        [3, 4, 5]])"
      ]
     },
     "execution_count": 10,
     "metadata": {},
     "output_type": "execute_result"
    }
   ],
   "source": [
    "#对阵矩阵\n",
    "B = torch.tensor([[1, 2, 3], [2, 0, 4], [3, 4, 5]])\n",
    "B"
   ]
  },
  {
   "cell_type": "code",
   "execution_count": 11,
   "id": "68009686",
   "metadata": {},
   "outputs": [
    {
     "data": {
      "text/plain": [
       "tensor([[True, True, True],\n",
       "        [True, True, True],\n",
       "        [True, True, True]])"
      ]
     },
     "execution_count": 11,
     "metadata": {},
     "output_type": "execute_result"
    }
   ],
   "source": [
    "B == B.T"
   ]
  },
  {
   "cell_type": "code",
   "execution_count": 12,
   "id": "4ffe5827",
   "metadata": {},
   "outputs": [],
   "source": [
    "#沿着张量的最外轴，可以访问或遍历小批量的数据样本"
   ]
  },
  {
   "cell_type": "markdown",
   "id": "e8c23e44",
   "metadata": {},
   "source": [
    "## 2.3.4 张量"
   ]
  },
  {
   "cell_type": "code",
   "execution_count": 13,
   "id": "04b3dd15",
   "metadata": {},
   "outputs": [
    {
     "data": {
      "text/plain": [
       "tensor([[[ 0,  1,  2,  3],\n",
       "         [ 4,  5,  6,  7],\n",
       "         [ 8,  9, 10, 11]],\n",
       "\n",
       "        [[12, 13, 14, 15],\n",
       "         [16, 17, 18, 19],\n",
       "         [20, 21, 22, 23]]])"
      ]
     },
     "execution_count": 13,
     "metadata": {},
     "output_type": "execute_result"
    }
   ],
   "source": [
    "#张量提供了描述具有任意数据轴的n维数组的通用方法\n",
    "x = torch.arange(24).reshape(2, 3, 4)\n",
    "x"
   ]
  },
  {
   "cell_type": "markdown",
   "id": "671a9041",
   "metadata": {},
   "source": [
    "## 2.3.5 张量算法的基本性质"
   ]
  },
  {
   "cell_type": "code",
   "execution_count": 14,
   "id": "da1fbd2e",
   "metadata": {},
   "outputs": [
    {
     "data": {
      "text/plain": [
       "(tensor([[ 0.,  1.,  2.,  3.],\n",
       "         [ 4.,  5.,  6.,  7.],\n",
       "         [ 8.,  9., 10., 11.],\n",
       "         [12., 13., 14., 15.],\n",
       "         [16., 17., 18., 19.]]),\n",
       " tensor([[ 0.,  2.,  4.,  6.],\n",
       "         [ 8., 10., 12., 14.],\n",
       "         [16., 18., 20., 22.],\n",
       "         [24., 26., 28., 30.],\n",
       "         [32., 34., 36., 38.]]))"
      ]
     },
     "execution_count": 14,
     "metadata": {},
     "output_type": "execute_result"
    }
   ],
   "source": [
    "#给定具有的相同形状的任意两个张量，任何按元素二元运算的结果都将是相同形状的张量\n",
    "A = torch.arange(20, dtype=torch.float32).reshape(5, 4)\n",
    "B = A.clone()\n",
    "A, A + B"
   ]
  },
  {
   "cell_type": "code",
   "execution_count": 15,
   "id": "f3ee2469",
   "metadata": {},
   "outputs": [
    {
     "data": {
      "text/plain": [
       "tensor([[  0.,   1.,   4.,   9.],\n",
       "        [ 16.,  25.,  36.,  49.],\n",
       "        [ 64.,  81., 100., 121.],\n",
       "        [144., 169., 196., 225.],\n",
       "        [256., 289., 324., 361.]])"
      ]
     },
     "execution_count": 15,
     "metadata": {},
     "output_type": "execute_result"
    }
   ],
   "source": [
    "#两个矩阵按元素乘法称为Hadamard积\n",
    "A * B"
   ]
  },
  {
   "cell_type": "code",
   "execution_count": 16,
   "id": "6e5b539b",
   "metadata": {},
   "outputs": [
    {
     "data": {
      "text/plain": [
       "(tensor([[[ 2,  3,  4,  5],\n",
       "          [ 6,  7,  8,  9],\n",
       "          [10, 11, 12, 13]],\n",
       " \n",
       "         [[14, 15, 16, 17],\n",
       "          [18, 19, 20, 21],\n",
       "          [22, 23, 24, 25]]]),\n",
       " torch.Size([2, 3, 4]))"
      ]
     },
     "execution_count": 16,
     "metadata": {},
     "output_type": "execute_result"
    }
   ],
   "source": [
    "#将张量乘以或加上一个标量不会改变张量的形状，其中张量中的每个元素都将与标量相加或相乘\n",
    "a = 2\n",
    "X = torch.arange(24).reshape(2, 3, 4)\n",
    "a + X, (a * X).shape"
   ]
  },
  {
   "cell_type": "markdown",
   "id": "984ddd92",
   "metadata": {},
   "source": [
    "## 2.3.6 降维"
   ]
  },
  {
   "cell_type": "code",
   "execution_count": 17,
   "id": "468d89ab",
   "metadata": {},
   "outputs": [
    {
     "data": {
      "text/plain": [
       "(tensor([0., 1., 2., 3.]), tensor(6.))"
      ]
     },
     "execution_count": 17,
     "metadata": {},
     "output_type": "execute_result"
    }
   ],
   "source": [
    "#计算元素的和\n",
    "x = torch.arange(4, dtype=torch.float32)\n",
    "x, x.sum()"
   ]
  },
  {
   "cell_type": "code",
   "execution_count": 18,
   "id": "76ca45a2",
   "metadata": {},
   "outputs": [
    {
     "data": {
      "text/plain": [
       "(torch.Size([5, 4]), tensor(190.))"
      ]
     },
     "execution_count": 18,
     "metadata": {},
     "output_type": "execute_result"
    }
   ],
   "source": [
    "#可以表示任意形状张量的元素和\n",
    "A.shape, A.sum()"
   ]
  },
  {
   "cell_type": "code",
   "execution_count": 19,
   "id": "2f513242",
   "metadata": {},
   "outputs": [
    {
     "data": {
      "text/plain": [
       "(tensor([40., 45., 50., 55.]), torch.Size([4]))"
      ]
     },
     "execution_count": 19,
     "metadata": {},
     "output_type": "execute_result"
    }
   ],
   "source": [
    "#可以指定沿着哪一个轴通过求和降低维度\n",
    "\n",
    "#指定axis=0通过汇总所有行的元素来降低维度\n",
    "A_sum_axis0 = A.sum(axis=0)\n",
    "A_sum_axis0, A_sum_axis0.shape"
   ]
  },
  {
   "cell_type": "code",
   "execution_count": 20,
   "id": "fe71e03a",
   "metadata": {},
   "outputs": [
    {
     "data": {
      "text/plain": [
       "(tensor([ 6., 22., 38., 54., 70.]), torch.Size([5]))"
      ]
     },
     "execution_count": 20,
     "metadata": {},
     "output_type": "execute_result"
    }
   ],
   "source": [
    "#指定axis=1通过汇总所有列的元素来降低维度\n",
    "A_sum_axis1 = A.sum(axis=1)\n",
    "A_sum_axis1, A_sum_axis1.shape"
   ]
  },
  {
   "cell_type": "code",
   "execution_count": 21,
   "id": "0c7696d2",
   "metadata": {},
   "outputs": [
    {
     "data": {
      "text/plain": [
       "tensor(190.)"
      ]
     },
     "execution_count": 21,
     "metadata": {},
     "output_type": "execute_result"
    }
   ],
   "source": [
    "#沿着行和列对矩阵求和，等价于对矩阵所有元素求和\n",
    "A.sum(axis=[0, 1])"
   ]
  },
  {
   "cell_type": "code",
   "execution_count": 22,
   "id": "e5ecf0d0",
   "metadata": {},
   "outputs": [
    {
     "data": {
      "text/plain": [
       "(tensor(9.5000), tensor(9.5000))"
      ]
     },
     "execution_count": 22,
     "metadata": {},
     "output_type": "execute_result"
    }
   ],
   "source": [
    "#均值\n",
    "A.mean(), A.sum() / A.numel()"
   ]
  },
  {
   "cell_type": "code",
   "execution_count": 23,
   "id": "3faf7dd4",
   "metadata": {},
   "outputs": [
    {
     "data": {
      "text/plain": [
       "(tensor([ 8.,  9., 10., 11.]), tensor([ 8.,  9., 10., 11.]))"
      ]
     },
     "execution_count": 23,
     "metadata": {},
     "output_type": "execute_result"
    }
   ],
   "source": [
    "#计算平均值的函数也可以降维\n",
    "A.mean(axis=0), A.sum(axis=0) / A.shape[0]"
   ]
  },
  {
   "cell_type": "markdown",
   "id": "0bc32b9c",
   "metadata": {},
   "source": [
    "### 2.3.6.1 非降维求和"
   ]
  },
  {
   "cell_type": "code",
   "execution_count": 24,
   "id": "5f55a4e6",
   "metadata": {},
   "outputs": [
    {
     "data": {
      "text/plain": [
       "tensor([[ 6.],\n",
       "        [22.],\n",
       "        [38.],\n",
       "        [54.],\n",
       "        [70.]])"
      ]
     },
     "execution_count": 24,
     "metadata": {},
     "output_type": "execute_result"
    }
   ],
   "source": [
    "#求和时或均值时保持轴数不变\n",
    "\n",
    "sum_A = A.sum(axis=1, keepdims=True)\n",
    "sum_A"
   ]
  },
  {
   "cell_type": "code",
   "execution_count": 25,
   "id": "26a4db1c",
   "metadata": {},
   "outputs": [
    {
     "data": {
      "text/plain": [
       "tensor([[0.0000, 0.1667, 0.3333, 0.5000],\n",
       "        [0.1818, 0.2273, 0.2727, 0.3182],\n",
       "        [0.2105, 0.2368, 0.2632, 0.2895],\n",
       "        [0.2222, 0.2407, 0.2593, 0.2778],\n",
       "        [0.2286, 0.2429, 0.2571, 0.2714]])"
      ]
     },
     "execution_count": 25,
     "metadata": {},
     "output_type": "execute_result"
    }
   ],
   "source": [
    "#广播\n",
    "A / sum_A"
   ]
  },
  {
   "cell_type": "code",
   "execution_count": 26,
   "id": "95235b9e",
   "metadata": {},
   "outputs": [
    {
     "data": {
      "text/plain": [
       "tensor([[ 0.,  1.,  2.,  3.],\n",
       "        [ 4.,  6.,  8., 10.],\n",
       "        [12., 15., 18., 21.],\n",
       "        [24., 28., 32., 36.],\n",
       "        [40., 45., 50., 55.]])"
      ]
     },
     "execution_count": 26,
     "metadata": {},
     "output_type": "execute_result"
    }
   ],
   "source": [
    "#沿着轴计算A元素的累积总和\n",
    "A.cumsum(axis=0)"
   ]
  },
  {
   "cell_type": "markdown",
   "id": "ab64c7d9",
   "metadata": {},
   "source": [
    "## 2.3.7 点积"
   ]
  },
  {
   "cell_type": "code",
   "execution_count": 27,
   "id": "01a71bef",
   "metadata": {},
   "outputs": [
    {
     "data": {
      "text/plain": [
       "(tensor([0., 1., 2., 3.]), tensor([1., 1., 1., 1.]), tensor(6.))"
      ]
     },
     "execution_count": 27,
     "metadata": {},
     "output_type": "execute_result"
    }
   ],
   "source": [
    "#两个向量的点积就是相同位置的按元素乘积的和\n",
    "y = torch.ones(4, dtype=torch.float32)\n",
    "x, y, torch.dot(x, y)"
   ]
  },
  {
   "cell_type": "code",
   "execution_count": 28,
   "id": "9d379757",
   "metadata": {},
   "outputs": [
    {
     "data": {
      "text/plain": [
       "tensor(6.)"
      ]
     },
     "execution_count": 28,
     "metadata": {},
     "output_type": "execute_result"
    }
   ],
   "source": [
    "#元素乘法再求和也可以实现\n",
    "torch.sum(x * y)"
   ]
  },
  {
   "cell_type": "markdown",
   "id": "9d86c267",
   "metadata": {},
   "source": [
    "## 2.3.8 矩阵-向量积"
   ]
  },
  {
   "cell_type": "code",
   "execution_count": 29,
   "id": "8abbd4ba",
   "metadata": {},
   "outputs": [
    {
     "data": {
      "text/plain": [
       "(torch.Size([5, 4]), torch.Size([4]), tensor([ 14.,  38.,  62.,  86., 110.]))"
      ]
     },
     "execution_count": 29,
     "metadata": {},
     "output_type": "execute_result"
    }
   ],
   "source": [
    "#表示矩阵-向量积时，使用mv函数，其中A的列维数必须与x的维数（长度）相同\n",
    "A.shape, x.shape, torch.mv(A, x)"
   ]
  },
  {
   "cell_type": "markdown",
   "id": "3616a0d0",
   "metadata": {},
   "source": [
    "## 2.3.9 矩阵乘法"
   ]
  },
  {
   "cell_type": "code",
   "execution_count": 30,
   "id": "3539b332",
   "metadata": {},
   "outputs": [
    {
     "data": {
      "text/plain": [
       "tensor([[ 6.,  6.,  6.],\n",
       "        [22., 22., 22.],\n",
       "        [38., 38., 38.],\n",
       "        [54., 54., 54.],\n",
       "        [70., 70., 70.]])"
      ]
     },
     "execution_count": 30,
     "metadata": {},
     "output_type": "execute_result"
    }
   ],
   "source": [
    "#矩阵乘法使用函数mm，不要与hadamard积混淆\n",
    "B = torch.ones(4, 3)\n",
    "torch.mm(A, B)"
   ]
  },
  {
   "cell_type": "markdown",
   "id": "7f81fafd",
   "metadata": {},
   "source": [
    "## 2.3.10 范数"
   ]
  },
  {
   "cell_type": "code",
   "execution_count": 31,
   "id": "10761a9f",
   "metadata": {},
   "outputs": [],
   "source": [
    "#非正式地说，一个向量的范数告诉我们一个向量有多大\n",
    "#向量的范数是将向量映射到标量的函数f，f的属性：\n",
    "#1.f(ax)=|a|f(x)，a为常数因子\n",
    "#2.f(x+y) <= f(x) + f(y)\n",
    "#3.f(x) >= 0\n",
    "\n",
    "#欧几里得距离就是L2范数"
   ]
  },
  {
   "cell_type": "code",
   "execution_count": 32,
   "id": "c0f15b29",
   "metadata": {},
   "outputs": [
    {
     "data": {
      "text/plain": [
       "tensor(5.)"
      ]
     },
     "execution_count": 32,
     "metadata": {},
     "output_type": "execute_result"
    }
   ],
   "source": [
    "#计算向量的L2范数\n",
    "u = torch.tensor([3.0, -4.0])\n",
    "torch.norm(u)"
   ]
  },
  {
   "cell_type": "code",
   "execution_count": 33,
   "id": "24b7d29a",
   "metadata": {},
   "outputs": [
    {
     "data": {
      "text/plain": [
       "tensor(7.)"
      ]
     },
     "execution_count": 33,
     "metadata": {},
     "output_type": "execute_result"
    }
   ],
   "source": [
    "#L2范数的平方为L1范数，它表示向量元素的绝对值之和，相比L2范数，L1范数受异常值的影响较小\n",
    "torch.abs(u).sum()"
   ]
  },
  {
   "cell_type": "code",
   "execution_count": 34,
   "id": "39b596c3",
   "metadata": {},
   "outputs": [
    {
     "data": {
      "text/plain": [
       "tensor(6.)"
      ]
     },
     "execution_count": 34,
     "metadata": {},
     "output_type": "execute_result"
    }
   ],
   "source": [
    "#Lp范数\n",
    "#矩阵的Frobenius范数是矩阵元素平方和的平方根\n",
    "torch.norm(torch.ones((4, 9)))"
   ]
  },
  {
   "cell_type": "markdown",
   "id": "98d49469",
   "metadata": {},
   "source": [
    "### 2.3.10.1 范数和目标"
   ]
  },
  {
   "cell_type": "code",
   "execution_count": 35,
   "id": "e2c57a6e",
   "metadata": {},
   "outputs": [],
   "source": [
    "#在深度学习中，经常试图解决优化问题：最大化分配给观测数据的概率；最小化预测和真实观测之间的距离。\n",
    "#用向量表示物品，以便最小化相似项目之间的距离，最大化不同项目之间的距离"
   ]
  },
  {
   "cell_type": "markdown",
   "id": "890acce1",
   "metadata": {},
   "source": [
    "## 2.3.11 关于线性代数的更多信息"
   ]
  },
  {
   "cell_type": "code",
   "execution_count": 36,
   "id": "a24953c0",
   "metadata": {},
   "outputs": [],
   "source": [
    "#矩阵可以分解为因子，这些分解可以显示真实世界数据中的低维结构\n",
    "#机器学习的整个子领域都侧重于使用矩阵分解及其高阶张量的泛化，来发现数据集中的结构并解决预测问题"
   ]
  },
  {
   "cell_type": "markdown",
   "id": "3d291233",
   "metadata": {},
   "source": [
    "## 2.3.12 小结"
   ]
  },
  {
   "cell_type": "code",
   "execution_count": 37,
   "id": "62f7e4bc",
   "metadata": {},
   "outputs": [],
   "source": [
    "#标量、向量、矩阵和张量是线性代数中基本的数学对象\n",
    "#向量泛化自标量，矩阵泛化自向量\n",
    "#标量、向量、矩阵和张量分别具有零、一、二和任意数量的轴\n",
    "#一个张量可以通过sum和mean沿指定的轴降低维度\n",
    "#两个矩阵的按元素乘法被成为他们的Hadamard积，他与矩阵乘法不同\n",
    "#在深度学习中，我们经常使用范数，如L1范数、L2范数和Frobenius范数\n",
    "#我们可以对标量、向量、矩阵和张量执行各种操作"
   ]
  },
  {
   "cell_type": "markdown",
   "id": "5a291d8a",
   "metadata": {},
   "source": [
    "## 2.3.13 练习"
   ]
  },
  {
   "cell_type": "code",
   "execution_count": 38,
   "id": "22771455",
   "metadata": {},
   "outputs": [
    {
     "data": {
      "text/plain": [
       "tensor([[ 0.,  1.,  2.,  3.,  4.],\n",
       "        [ 5.,  6.,  7.,  8.,  9.],\n",
       "        [10., 11., 12., 13., 14.],\n",
       "        [15., 16., 17., 18., 19.]])"
      ]
     },
     "execution_count": 38,
     "metadata": {},
     "output_type": "execute_result"
    }
   ],
   "source": [
    "#证明矩阵A的转置的转置是A\n",
    "A = torch.arange(20, dtype=torch.float32).reshape((4, 5))\n",
    "A"
   ]
  },
  {
   "cell_type": "code",
   "execution_count": 39,
   "id": "9a6138fe",
   "metadata": {},
   "outputs": [
    {
     "data": {
      "text/plain": [
       "tensor([[ 0.,  5., 10., 15.],\n",
       "        [ 1.,  6., 11., 16.],\n",
       "        [ 2.,  7., 12., 17.],\n",
       "        [ 3.,  8., 13., 18.],\n",
       "        [ 4.,  9., 14., 19.]])"
      ]
     },
     "execution_count": 39,
     "metadata": {},
     "output_type": "execute_result"
    }
   ],
   "source": [
    "B = A.T\n",
    "B"
   ]
  },
  {
   "cell_type": "code",
   "execution_count": 40,
   "id": "fcccc97b",
   "metadata": {},
   "outputs": [
    {
     "data": {
      "text/plain": [
       "tensor([[True, True, True, True, True],\n",
       "        [True, True, True, True, True],\n",
       "        [True, True, True, True, True],\n",
       "        [True, True, True, True, True]])"
      ]
     },
     "execution_count": 40,
     "metadata": {},
     "output_type": "execute_result"
    }
   ],
   "source": [
    "C = B.T\n",
    "C == A"
   ]
  },
  {
   "cell_type": "code",
   "execution_count": 42,
   "id": "83b94c24",
   "metadata": {},
   "outputs": [
    {
     "data": {
      "text/plain": [
       "(tensor([[0., 1., 2., 3., 4.],\n",
       "         [5., 6., 7., 8., 9.]]),\n",
       " tensor([[ 3,  4,  5,  6,  7],\n",
       "         [ 7,  8,  9, 10, 11]]))"
      ]
     },
     "execution_count": 42,
     "metadata": {},
     "output_type": "execute_result"
    }
   ],
   "source": [
    "#给出两个矩阵A和B，证明他们转置的和等于他们和的转置。\n",
    "A = torch.arange(10, dtype=torch.float32).reshape((2, 5))\n",
    "B = torch.tensor([[3, 4, 5, 6, 7], [7, 8, 9, 10, 11]])\n",
    "A, B"
   ]
  },
  {
   "cell_type": "code",
   "execution_count": 45,
   "id": "a6555516",
   "metadata": {},
   "outputs": [
    {
     "data": {
      "text/plain": [
       "tensor([[ 3.,  5.,  7.,  9., 11.],\n",
       "        [12., 14., 16., 18., 20.]])"
      ]
     },
     "execution_count": 45,
     "metadata": {},
     "output_type": "execute_result"
    }
   ],
   "source": [
    "C = A + B\n",
    "C"
   ]
  },
  {
   "cell_type": "code",
   "execution_count": 46,
   "id": "3b26bc5f",
   "metadata": {},
   "outputs": [
    {
     "data": {
      "text/plain": [
       "tensor([[ 3., 12.],\n",
       "        [ 5., 14.],\n",
       "        [ 7., 16.],\n",
       "        [ 9., 18.],\n",
       "        [11., 20.]])"
      ]
     },
     "execution_count": 46,
     "metadata": {},
     "output_type": "execute_result"
    }
   ],
   "source": [
    "D = C.T\n",
    "D"
   ]
  },
  {
   "cell_type": "code",
   "execution_count": 47,
   "id": "9751db98",
   "metadata": {},
   "outputs": [
    {
     "data": {
      "text/plain": [
       "tensor([[True, True],\n",
       "        [True, True],\n",
       "        [True, True],\n",
       "        [True, True],\n",
       "        [True, True]])"
      ]
     },
     "execution_count": 47,
     "metadata": {},
     "output_type": "execute_result"
    }
   ],
   "source": [
    "D == A.T + B.T"
   ]
  },
  {
   "cell_type": "code",
   "execution_count": 52,
   "id": "1b63394c",
   "metadata": {},
   "outputs": [
    {
     "data": {
      "text/plain": [
       "tensor([[ 0.,  6., 12., 18., 24.],\n",
       "        [ 6., 12., 18., 24., 30.],\n",
       "        [12., 18., 24., 30., 36.],\n",
       "        [18., 24., 30., 36., 42.],\n",
       "        [24., 30., 36., 42., 48.]])"
      ]
     },
     "execution_count": 52,
     "metadata": {},
     "output_type": "execute_result"
    }
   ],
   "source": [
    "#给定任意方阵A, A+A.T总是对称的吗？\n",
    "A = torch.arange(25, dtype=torch.float32).reshape((5, 5))\n",
    "A + A.T"
   ]
  },
  {
   "cell_type": "code",
   "execution_count": 57,
   "id": "f2fcf548",
   "metadata": {},
   "outputs": [
    {
     "data": {
      "text/plain": [
       "tensor([[[ 0.,  1.,  2.,  3.],\n",
       "         [ 4.,  5.,  6.,  7.],\n",
       "         [ 8.,  9., 10., 11.]],\n",
       "\n",
       "        [[12., 13., 14., 15.],\n",
       "         [16., 17., 18., 19.],\n",
       "         [20., 21., 22., 23.]]])"
      ]
     },
     "execution_count": 57,
     "metadata": {},
     "output_type": "execute_result"
    }
   ],
   "source": [
    "#定义形状为（2， 3， 4）的张量X,len(X)的输出结果是什么？\n",
    "X = torch.arange(24, dtype=torch.float32).reshape(2, 3, 4)\n",
    "X"
   ]
  },
  {
   "cell_type": "code",
   "execution_count": 58,
   "id": "6880a33c",
   "metadata": {},
   "outputs": [
    {
     "data": {
      "text/plain": [
       "2"
      ]
     },
     "execution_count": 58,
     "metadata": {},
     "output_type": "execute_result"
    }
   ],
   "source": [
    "len(X)"
   ]
  },
  {
   "cell_type": "code",
   "execution_count": 60,
   "id": "69ac7de8",
   "metadata": {},
   "outputs": [
    {
     "data": {
      "text/plain": [
       "(2, 1, 2)"
      ]
     },
     "execution_count": 60,
     "metadata": {},
     "output_type": "execute_result"
    }
   ],
   "source": [
    "#对于任意形状的张量X, len(X)是否总是对应于X特定轴的长度？这个轴是什么？\n",
    "X = torch.arange(24).reshape(2, 3, 4)\n",
    "Y = torch.arange(36).reshape(1, 2, 3, 6)\n",
    "Z = torch.arange(120).reshape(2, 3, 4, 5)\n",
    "len(X), len(Y), len(Z)"
   ]
  },
  {
   "cell_type": "code",
   "execution_count": 65,
   "id": "5b287ab7",
   "metadata": {},
   "outputs": [
    {
     "data": {
      "text/plain": [
       "tensor([[ 0,  1,  2,  3,  4,  5,  6],\n",
       "        [ 7,  8,  9, 10, 11, 12, 13],\n",
       "        [14, 15, 16, 17, 18, 19, 20]])"
      ]
     },
     "execution_count": 65,
     "metadata": {},
     "output_type": "execute_result"
    }
   ],
   "source": [
    "#运行A/A.sum(axis=1),看看会发生什么\n",
    "A = torch.arange(21).reshape(3, 7)\n",
    "A"
   ]
  },
  {
   "cell_type": "code",
   "execution_count": 67,
   "id": "3ffb51a9",
   "metadata": {},
   "outputs": [
    {
     "data": {
      "text/plain": [
       "tensor([[0.0000, 0.0476, 0.0952, 0.1429, 0.1905, 0.2381, 0.2857],\n",
       "        [0.1000, 0.1143, 0.1286, 0.1429, 0.1571, 0.1714, 0.1857],\n",
       "        [0.1176, 0.1261, 0.1345, 0.1429, 0.1513, 0.1597, 0.1681]])"
      ]
     },
     "execution_count": 67,
     "metadata": {},
     "output_type": "execute_result"
    }
   ],
   "source": [
    "A / A.sum(axis=1, keepdims=True) #保持维度，不降维求和，可以通过广播跑通"
   ]
  },
  {
   "cell_type": "code",
   "execution_count": 69,
   "id": "762cfea2",
   "metadata": {},
   "outputs": [
    {
     "data": {
      "text/plain": [
       "(tensor([[12, 14, 16, 18],\n",
       "         [20, 22, 24, 26],\n",
       "         [28, 30, 32, 34]]),\n",
       " tensor([[12, 15, 18, 21],\n",
       "         [48, 51, 54, 57]]),\n",
       " tensor([[ 6, 22, 38],\n",
       "         [54, 70, 86]]))"
      ]
     },
     "execution_count": 69,
     "metadata": {},
     "output_type": "execute_result"
    }
   ],
   "source": [
    "#考虑具有形状（2， 3， 4）的张量，在轴0、1、2上的求和输出是什么形状？\n",
    "A = torch.arange(24).reshape(2, 3, 4)\n",
    "A.sum(axis=0), A.sum(axis=1), A.sum(axis=2)"
   ]
  },
  {
   "cell_type": "code",
   "execution_count": 70,
   "id": "edc906f9",
   "metadata": {},
   "outputs": [
    {
     "data": {
      "text/plain": [
       "(torch.Size([3, 4]), torch.Size([2, 4]), torch.Size([2, 3]))"
      ]
     },
     "execution_count": 70,
     "metadata": {},
     "output_type": "execute_result"
    }
   ],
   "source": [
    "A.sum(axis=0).shape, A.sum(axis=1).shape, A.sum(axis=2).shape"
   ]
  },
  {
   "cell_type": "code",
   "execution_count": 71,
   "id": "fdcfbf16",
   "metadata": {},
   "outputs": [
    {
     "data": {
      "text/plain": [
       "(tensor(4.8990), tensor(10.9545))"
      ]
     },
     "execution_count": 71,
     "metadata": {},
     "output_type": "execute_result"
    }
   ],
   "source": [
    "#为linalg.norm函数提供3个或更多轴的张量，并观察其输出。对于任意形状的张量这个函数计算得到什么？\n",
    "\n",
    "#torch.norm计算的是全部元素平方和开根\n",
    "E = torch.ones(2, 3, 4)\n",
    "F = torch.ones(2, 3, 4, 5)\n",
    "torch.norm(E), torch.norm(F)"
   ]
  },
  {
   "cell_type": "code",
   "execution_count": 72,
   "id": "2c5f0b18",
   "metadata": {},
   "outputs": [
    {
     "data": {
      "text/plain": [
       "(tensor(24.0000), tensor(120.0000))"
      ]
     },
     "execution_count": 72,
     "metadata": {},
     "output_type": "execute_result"
    }
   ],
   "source": [
    "torch.norm(E) * torch.norm(E), torch.norm(F) * torch.norm(F)"
   ]
  }
 ],
 "metadata": {
  "kernelspec": {
   "display_name": "Python 3 (ipykernel)",
   "language": "python",
   "name": "python3"
  },
  "language_info": {
   "codemirror_mode": {
    "name": "ipython",
    "version": 3
   },
   "file_extension": ".py",
   "mimetype": "text/x-python",
   "name": "python",
   "nbconvert_exporter": "python",
   "pygments_lexer": "ipython3",
   "version": "3.8.8"
  }
 },
 "nbformat": 4,
 "nbformat_minor": 5
}
