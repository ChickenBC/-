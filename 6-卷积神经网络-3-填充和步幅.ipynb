{
 "cells": [
  {
   "cell_type": "markdown",
   "id": "20a235dc",
   "metadata": {},
   "source": [
    "# 6.3 填充和步幅"
   ]
  },
  {
   "cell_type": "markdown",
   "id": "ebe21629",
   "metadata": {},
   "source": [
    "卷积的输出形状取决于输入形状和卷积核的形状。"
   ]
  },
  {
   "cell_type": "markdown",
   "id": "4c4ee48d",
   "metadata": {},
   "source": [
    "还有什么因素会影响输出的大小呢？本节我们将介绍填充（padding）和步幅（stride）。假设以下情景： 有时，在应用了连续的卷积之后，我们最终得到的输出远小于输入大小。这是由于卷积核的宽度和高度通常大于1所导致的。比如，一个240 * 240像素的图像，经过10层5 * 5的卷积后，将减少到200 * 200像素。如此一来，原始图像的边界丢失了许多有用信息。而填充是解决此问题最有效的方法。 有时，我们可能希望大幅降低图像的宽度和高度。例如，如果我们发现原始的输入分辨率十分冗余。步幅则可以在这类情况下提供帮助。"
   ]
  },
  {
   "cell_type": "markdown",
   "id": "b2f5c718",
   "metadata": {},
   "source": [
    "## 6.3.1 填充"
   ]
  },
  {
   "cell_type": "markdown",
   "id": "a106470a",
   "metadata": {},
   "source": [
    "在应用多层卷积时，我们常常丢失边缘像素。 由于我们通常使用小卷积核，因此对于任何单个卷积，我们可能只会丢失几个像素。 但随着我们应用许多连续卷积层，累积丢失的像素数就多了。 解决这个问题的简单方法即为填充（padding）：在输入图像的边界填充元素（通常填充元素是0）。"
   ]
  },
  {
   "cell_type": "markdown",
   "id": "612133d3",
   "metadata": {},
   "source": [
    "卷积神经网络中卷积核的高度和宽度通常为奇数，例如1、3、5或7。 选择奇数的好处是，保持空间维度的同时，我们可以在顶部和底部填充相同数量的行，在左侧和右侧填充相同数量的列。"
   ]
  },
  {
   "cell_type": "markdown",
   "id": "aa80c23c",
   "metadata": {},
   "source": [
    "此外，使用奇数的核大小和填充大小也提供了书写上的便利。对于任何二维张量X，当满足： 1. 卷积核的大小是奇数； 2. 所有边的填充行数和列数相同； 3. 输出与输入具有相同高度和宽度 则可以得出：输出Y[i, j]是通过以输入X[i, j]为中心，与卷积核进行互相关计算得到的。"
   ]
  },
  {
   "cell_type": "markdown",
   "id": "71d77c9f",
   "metadata": {},
   "source": [
    "在下面的例子中，我们创建一个高度和宽度为3的二维卷积层，并在所有侧边填充1个像素。给定高度和宽度为8的输入，则输出的高度和宽度也是8。"
   ]
  },
  {
   "cell_type": "code",
   "execution_count": 1,
   "id": "32b53efe",
   "metadata": {},
   "outputs": [
    {
     "data": {
      "text/plain": [
       "torch.Size([8, 8])"
      ]
     },
     "execution_count": 1,
     "metadata": {},
     "output_type": "execute_result"
    }
   ],
   "source": [
    "import torch\n",
    "from torch import nn\n",
    "\n",
    "# 为了方便起见，我们定义了一个计算卷积层的函数\n",
    "# 此函数初始化卷积层权重，并对输入和输出提高和缩减相应的维数\n",
    "def comp_conv2d(conv2d, X):\n",
    "    # 这里的(1, 1)表示批量大小和通道数都是1\n",
    "    X = X.reshape((1, 1) + X.shape)\n",
    "    Y = conv2d(X)\n",
    "    # 省略前两个维度：批量大小和通道\n",
    "    return Y.reshape(Y.shape[2:])\n",
    "\n",
    "# 请注意，这里每边都填充了1行或1列，因此总共添加了2行或2列\n",
    "conv2d = nn.Conv2d(1, 1, kernel_size=3, padding=1)\n",
    "X = torch.rand(size=(8, 8))\n",
    "comp_conv2d(conv2d, X).shape"
   ]
  },
  {
   "cell_type": "markdown",
   "id": "b0de6a19",
   "metadata": {},
   "source": [
    "当卷积核的高度和宽度不同时，我们可以填充不同的高度和宽度，使输出和输入具有相同的高度和宽度。在如下示例中，我们是用高度为5，宽度为3的卷积核，高度和宽度的填充分别为2和1。"
   ]
  },
  {
   "cell_type": "code",
   "execution_count": 2,
   "id": "77528217",
   "metadata": {},
   "outputs": [
    {
     "data": {
      "text/plain": [
       "torch.Size([8, 8])"
      ]
     },
     "execution_count": 2,
     "metadata": {},
     "output_type": "execute_result"
    }
   ],
   "source": [
    "conv2d = nn.Conv2d(1, 1, kernel_size=(5, 3), padding=(2, 1))\n",
    "comp_conv2d(conv2d, X).shape"
   ]
  },
  {
   "cell_type": "markdown",
   "id": "12b6b42b",
   "metadata": {},
   "source": [
    "## 6.3.2 步幅"
   ]
  },
  {
   "cell_type": "markdown",
   "id": "9977a093",
   "metadata": {},
   "source": [
    "在计算互相关时，卷积窗口从输入张量的左上角开始，向下、向右滑动。 在前面的例子中，我们默认每次滑动一个元素。 但是，有时候为了高效计算或是缩减采样次数，卷积窗口可以跳过中间位置，每次滑动多个元素。\n",
    "\n",
    "我们将每次滑动元素的数量称为步幅（stride）。"
   ]
  },
  {
   "cell_type": "markdown",
   "id": "6ffeda18",
   "metadata": {},
   "source": [
    "下面，我们将高度和宽度的步幅设置为2，从而将输入的高度和宽度减半。"
   ]
  },
  {
   "cell_type": "code",
   "execution_count": 3,
   "id": "a438b936",
   "metadata": {},
   "outputs": [
    {
     "data": {
      "text/plain": [
       "torch.Size([4, 4])"
      ]
     },
     "execution_count": 3,
     "metadata": {},
     "output_type": "execute_result"
    }
   ],
   "source": [
    "conv2d = nn.Conv2d(1, 1, kernel_size=3, padding=1, stride=2)\n",
    "comp_conv2d(conv2d, X).shape"
   ]
  },
  {
   "cell_type": "markdown",
   "id": "764ffe36",
   "metadata": {},
   "source": [
    "下面，我们将高度和宽度的步幅设置为2，从而将输入的高度和宽度减半。"
   ]
  },
  {
   "cell_type": "code",
   "execution_count": 4,
   "id": "0c9f4c0d",
   "metadata": {},
   "outputs": [
    {
     "data": {
      "text/plain": [
       "torch.Size([2, 2])"
      ]
     },
     "execution_count": 4,
     "metadata": {},
     "output_type": "execute_result"
    }
   ],
   "source": [
    "conv2d = nn.Conv2d(1, 1, kernel_size=(3, 5), padding=(0, 1), stride=(3, 4))\n",
    "comp_conv2d(conv2d, X).shape"
   ]
  },
  {
   "cell_type": "markdown",
   "id": "2d218f0a",
   "metadata": {},
   "source": [
    "## 6.3.3 小结"
   ]
  },
  {
   "cell_type": "markdown",
   "id": "77869a14",
   "metadata": {},
   "source": [
    "·填充可以增加输出的高度和宽度。这常用来使输入和输出具有相同的高和宽。  \n",
    "·步幅可以减小输出的高和宽，例如输出的高和宽仅为输入的高和宽的1/n（n是一个大于1的整数）。  \n",
    "·填充和步幅可用于有效地调整数据的维度。"
   ]
  }
 ],
 "metadata": {
  "kernelspec": {
   "display_name": "Python 3 (ipykernel)",
   "language": "python",
   "name": "python3"
  },
  "language_info": {
   "codemirror_mode": {
    "name": "ipython",
    "version": 3
   },
   "file_extension": ".py",
   "mimetype": "text/x-python",
   "name": "python",
   "nbconvert_exporter": "python",
   "pygments_lexer": "ipython3",
   "version": "3.9.12"
  }
 },
 "nbformat": 4,
 "nbformat_minor": 5
}
