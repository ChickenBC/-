{
 "cells": [
  {
   "cell_type": "markdown",
   "id": "16ed9124",
   "metadata": {},
   "source": [
    "# 4.9 环境和分布偏移"
   ]
  },
  {
   "cell_type": "code",
   "execution_count": 1,
   "id": "7ee8b3f2",
   "metadata": {},
   "outputs": [],
   "source": [
    "# 通过将基于模型的决策引入环境，我们可能会破坏模型。"
   ]
  },
  {
   "cell_type": "markdown",
   "id": "60121ca5",
   "metadata": {},
   "source": [
    "## 4.9.1 分布偏移的类型"
   ]
  },
  {
   "cell_type": "markdown",
   "id": "dde5ada1",
   "metadata": {},
   "source": [
    "### 4.9.1.1 协变量偏移"
   ]
  },
  {
   "cell_type": "code",
   "execution_count": 2,
   "id": "a39c16a7",
   "metadata": {},
   "outputs": [],
   "source": [
    "# 虽然输入的分布可能随时间改变，但标签函数没有改变。统计学家称之为协变量偏移。"
   ]
  },
  {
   "cell_type": "markdown",
   "id": "3d3b7e3c",
   "metadata": {},
   "source": [
    "### 4.9.1.2 标签偏移"
   ]
  },
  {
   "cell_type": "code",
   "execution_count": 3,
   "id": "ccd4e206",
   "metadata": {},
   "outputs": [],
   "source": [
    "# 标签偏移描述了与协变量偏移相反的问题"
   ]
  },
  {
   "cell_type": "markdown",
   "id": "131165c5",
   "metadata": {},
   "source": [
    "### 4.9.1.3 概念偏移"
   ]
  },
  {
   "cell_type": "code",
   "execution_count": 4,
   "id": "9746f95d",
   "metadata": {},
   "outputs": [],
   "source": [
    "# 当标签的定义发生变化时，发生概念偏移。"
   ]
  },
  {
   "cell_type": "markdown",
   "id": "727a34fc",
   "metadata": {},
   "source": [
    "## 4.9.2 分布偏移示例"
   ]
  },
  {
   "cell_type": "markdown",
   "id": "ebf0189e",
   "metadata": {},
   "source": [
    "### 4.9.2.1 医学诊断"
   ]
  },
  {
   "cell_type": "code",
   "execution_count": 5,
   "id": "19e40ad6",
   "metadata": {},
   "outputs": [],
   "source": [
    "# 收集训练数据的分布和在实际中遇到的数据分布可能有很大的不同。"
   ]
  },
  {
   "cell_type": "markdown",
   "id": "30357f63",
   "metadata": {},
   "source": [
    "### 4.9.2.2 自动驾驶汽车"
   ]
  },
  {
   "cell_type": "markdown",
   "id": "dda7b169",
   "metadata": {},
   "source": [
    "### 4.9.2.3 非平稳分布"
   ]
  },
  {
   "cell_type": "code",
   "execution_count": 6,
   "id": "8507c580",
   "metadata": {},
   "outputs": [],
   "source": [
    "# 当分布变化缓慢并且模型没有得到充分更新时，就会出现非平稳分布。"
   ]
  },
  {
   "cell_type": "markdown",
   "id": "39698367",
   "metadata": {},
   "source": [
    "### 4.9.2.4 更多轶事"
   ]
  },
  {
   "cell_type": "markdown",
   "id": "856fd850",
   "metadata": {},
   "source": [
    "## 4.9.3 分布偏移纠正"
   ]
  },
  {
   "cell_type": "markdown",
   "id": "0240e3fe",
   "metadata": {},
   "source": [
    "### 4.9.3.1 经验风险与实际风险"
   ]
  },
  {
   "cell_type": "code",
   "execution_count": 7,
   "id": "454a7dc6",
   "metadata": {},
   "outputs": [],
   "source": [
    "# 经验风险最小化"
   ]
  },
  {
   "cell_type": "markdown",
   "id": "d72abcb2",
   "metadata": {},
   "source": [
    "### 4.9.3.2 协变量偏移纠正"
   ]
  },
  {
   "cell_type": "code",
   "execution_count": 8,
   "id": "40d2b1cd",
   "metadata": {},
   "outputs": [],
   "source": [
    "# 纠正协变量偏移的典型做法\n",
    "# 1.生成一个二元分类训练集\n",
    "# 2.用对数几率回归训练二分类器得到函数h\n",
    "# 3.对训练数据进行加权\n",
    "# 4.使用权重进行训练\n",
    "# 上述算法依赖于一个重要的假设：需要目标分布中的每个数据样本在训练时出现的概率非零"
   ]
  },
  {
   "cell_type": "markdown",
   "id": "5a5e54b4",
   "metadata": {},
   "source": [
    "### 4.9.3.3 标签偏移纠正"
   ]
  },
  {
   "cell_type": "markdown",
   "id": "679cdd37",
   "metadata": {},
   "source": [
    "### 4.9.3.4 概念偏移纠正"
   ]
  },
  {
   "cell_type": "markdown",
   "id": "930e91c4",
   "metadata": {},
   "source": [
    "## 4.9.4 学习问题的分类法"
   ]
  },
  {
   "cell_type": "markdown",
   "id": "3d934f76",
   "metadata": {},
   "source": [
    "### 4.9.4.1 批量学习"
   ]
  },
  {
   "cell_type": "code",
   "execution_count": 9,
   "id": "22e30f5e",
   "metadata": {},
   "outputs": [],
   "source": [
    "# 在批量学习中，我们可以访问一组训练特征和标签，我们使用这些特性和标签训练f(x)，然后部署此模型对来自同一分布的新数据进行评分"
   ]
  },
  {
   "cell_type": "markdown",
   "id": "9b5984c9",
   "metadata": {},
   "source": [
    "### 4.9.4.2 在线学习"
   ]
  },
  {
   "cell_type": "code",
   "execution_count": 11,
   "id": "f0c0ecb3",
   "metadata": {},
   "outputs": [],
   "source": [
    "# 首先观测到xi，然后我们得出一个估计值f(xi)，只有做到这一点后才观测到yi。然后根据我们的决定，得到奖励或损失。\n",
    "# 在在线学习中，我们有一个循环\n",
    "# model ft -> data xt -> estimate ft(xt) -> observation yt -> loss l(yt, ft(xt)) -> model ft+1\n",
    "# 在这个循环中给定新的观测结果，我们会不断地改进我们的模型"
   ]
  },
  {
   "cell_type": "markdown",
   "id": "255d2683",
   "metadata": {},
   "source": [
    "### 4.9.4.3 老虎机"
   ]
  },
  {
   "cell_type": "markdown",
   "id": "927ce5b1",
   "metadata": {},
   "source": [
    "### 4.9.4.4 控制"
   ]
  },
  {
   "cell_type": "code",
   "execution_count": 12,
   "id": "2ec803a6",
   "metadata": {},
   "outputs": [],
   "source": [
    "# 环境会记住我们所做的事，它的反应取决于之前发生的事情\n",
    "# PID控制器算法是一个流行的选择\n",
    "# 控制里理论也被用于自动调整超参数，以活得更好的解构和重建质量"
   ]
  },
  {
   "cell_type": "markdown",
   "id": "a1dedfa3",
   "metadata": {},
   "source": [
    "### 4.9.4.5 强化学习"
   ]
  },
  {
   "cell_type": "code",
   "execution_count": 13,
   "id": "dc17f200",
   "metadata": {},
   "outputs": [],
   "source": [
    "# 强化学习强调如何基于环境而行动，以取得最大化的预期利益。"
   ]
  },
  {
   "cell_type": "markdown",
   "id": "cf233a84",
   "metadata": {},
   "source": [
    "### 4.9.4.6 考虑到环境 "
   ]
  },
  {
   "cell_type": "markdown",
   "id": "8b222d43",
   "metadata": {},
   "source": [
    "## 4.9.5 机器学习中的公平、责任和透明度 "
   ]
  },
  {
   "cell_type": "code",
   "execution_count": 14,
   "id": "9c03db56",
   "metadata": {},
   "outputs": [],
   "source": [
    "# 预测性警务系统，它将巡逻人员分配到预测犯罪率较高的地区\n",
    "# 1.犯罪率高的社区会得到更多的巡逻\n",
    "# 2.这些社区中发现更多的犯罪行为，输入可用于未来迭代的训练数据\n",
    "# 3.面对更多的积极因素，该模型预测这些社区还会有跟多的犯罪\n",
    "# 4.下一次的迭代中，更新后的模型会更加倾向于针对同一个地区，这会导致更多的犯罪行为被发现等等。"
   ]
  },
  {
   "cell_type": "markdown",
   "id": "55204ffa",
   "metadata": {},
   "source": [
    "## 4.9.6 小结"
   ]
  },
  {
   "cell_type": "code",
   "execution_count": 15,
   "id": "266a3ed7",
   "metadata": {},
   "outputs": [],
   "source": [
    "# 在许多情况下，训练集和测试集并不来自同一个分布，这就是所谓的分布偏移\n",
    "# 真实风险是从真实分布中抽取的所有数据的总体损失的预期。然而这个数据总体通常是无法获得的。经验风险是训练数据的平均损失，用于近似真实风险。\n",
    "# 在实践中，我们进行经验风险最小化\n",
    "# 在相应的假设条件下，可以在测试时检测并纠正协变量偏移和标签偏移。在测试时，不考虑这种偏移可能会成为问题\n",
    "# 在某些情况下，环境可能会记住自动操作并以令人惊讶的方式做出响应\n",
    "# 在构建模型时，我们必须考虑到这种可能性，并继续监控实时系统，并对我们的模型和环境以意想不到的方式纠缠在一起的可能性持开放态度"
   ]
  }
 ],
 "metadata": {
  "kernelspec": {
   "display_name": "Python 3 (ipykernel)",
   "language": "python",
   "name": "python3"
  },
  "language_info": {
   "codemirror_mode": {
    "name": "ipython",
    "version": 3
   },
   "file_extension": ".py",
   "mimetype": "text/x-python",
   "name": "python",
   "nbconvert_exporter": "python",
   "pygments_lexer": "ipython3",
   "version": "3.8.8"
  }
 },
 "nbformat": 4,
 "nbformat_minor": 5
}
