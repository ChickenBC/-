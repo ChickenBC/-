{
 "cells": [
  {
   "cell_type": "markdown",
   "id": "4c2bac50",
   "metadata": {},
   "source": [
    "# 4.7 前向传播、反向传播和计算图"
   ]
  },
  {
   "cell_type": "markdown",
   "id": "b59a0142",
   "metadata": {},
   "source": [
    "## 4.7.1 前向传播"
   ]
  },
  {
   "cell_type": "code",
   "execution_count": 1,
   "id": "4c6768d5",
   "metadata": {},
   "outputs": [],
   "source": [
    "#前向传播指的是按顺序（从输入层到输出层）计算和存储神经网络中每层的结果。"
   ]
  },
  {
   "cell_type": "markdown",
   "id": "adc12c44",
   "metadata": {},
   "source": [
    "## 4.7.2 前向传播计算图"
   ]
  },
  {
   "cell_type": "markdown",
   "id": "6a42b81e",
   "metadata": {},
   "source": [
    "## 4.7.3 反向传播"
   ]
  },
  {
   "cell_type": "code",
   "execution_count": 2,
   "id": "58dc3c58",
   "metadata": {},
   "outputs": [],
   "source": [
    "# 反向传播指的是计算神经网络参数梯度的方法。该方法根据链式法则，按相反的顺序从输出层到出入层遍历网络。\n",
    "# 该算法存储了计算某些参数梯度时所需的任何中间变量（偏导数）。"
   ]
  },
  {
   "cell_type": "markdown",
   "id": "d0450cac",
   "metadata": {},
   "source": [
    "## 4.7.4 训练神经网络"
   ]
  },
  {
   "cell_type": "code",
   "execution_count": 3,
   "id": "1f4d6459",
   "metadata": {},
   "outputs": [],
   "source": [
    "# 在训练神经网络时，前向传播和反向传播相互依赖。\n",
    "# 对于前向传播，我们沿着依赖的方向遍历计算图并计算其路径上的所有变量。然后将这些用于反向传播，其中计算顺序与计算图的相反"
   ]
  },
  {
   "cell_type": "code",
   "execution_count": 4,
   "id": "86da05ca",
   "metadata": {},
   "outputs": [],
   "source": [
    "#在训练神经网络时，在初始化模型参数后，我们交替使用前向传播和反向传播，利用反向传播给出的梯度来更新模型参数。\n",
    "#注意，反向传播重复利用前向传播中存储的中间值，以避免重复计算。我们需要保留中间值，直到反向传播完成。\n",
    "#中间值得大小与网络层得数量和批量的大小大致成正比。因此使用更大批量来训练更深层次的网络更容易导致内存不足错误。"
   ]
  },
  {
   "cell_type": "markdown",
   "id": "29df8854",
   "metadata": {},
   "source": [
    "## 4.7.5 小结"
   ]
  },
  {
   "cell_type": "code",
   "execution_count": 5,
   "id": "ab440e52",
   "metadata": {},
   "outputs": [],
   "source": [
    "# 前向传播在神经网定义的计算图中按顺序计算和存储中间变量，它的顺序时从输入层到输出层\n",
    "# 反向传播按相反的顺序（从输出层到输入层）计算和存储神经网络的中间变量和参数梯度\n",
    "# 在训练深度学习模型时，前向传播和反向传播是互相依赖的\n",
    "# 训练比预测需要更多的内存"
   ]
  }
 ],
 "metadata": {
  "kernelspec": {
   "display_name": "Python 3 (ipykernel)",
   "language": "python",
   "name": "python3"
  },
  "language_info": {
   "codemirror_mode": {
    "name": "ipython",
    "version": 3
   },
   "file_extension": ".py",
   "mimetype": "text/x-python",
   "name": "python",
   "nbconvert_exporter": "python",
   "pygments_lexer": "ipython3",
   "version": "3.8.8"
  }
 },
 "nbformat": 4,
 "nbformat_minor": 5
}
