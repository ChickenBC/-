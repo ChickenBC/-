{
 "cells": [
  {
   "cell_type": "markdown",
   "id": "cee632f8",
   "metadata": {},
   "source": [
    "# 8.4 循环神经网络"
   ]
  },
  {
   "cell_type": "markdown",
   "id": "7899f3cd",
   "metadata": {},
   "source": [
    "## 8.4.1 无隐状态的神经网络"
   ]
  },
  {
   "cell_type": "markdown",
   "id": "2575de0d",
   "metadata": {},
   "source": [
    "## 8.4.2 有隐状态的循环神经网络"
   ]
  },
  {
   "cell_type": "code",
   "execution_count": 1,
   "id": "c36d498d",
   "metadata": {},
   "outputs": [
    {
     "data": {
      "text/plain": [
       "tensor([[-1.5604,  1.0007,  0.1825,  0.5617],\n",
       "        [ 1.4847, -0.5460,  3.0467, -1.7858],\n",
       "        [ 1.2874, -0.9269,  1.2277, -0.6752]])"
      ]
     },
     "execution_count": 1,
     "metadata": {},
     "output_type": "execute_result"
    }
   ],
   "source": [
    "import torch\n",
    "from d2l import torch as d2l\n",
    "\n",
    "X, W_xh = torch.normal(0, 1, (3, 1)), torch.normal(0, 1, (1, 4))\n",
    "H, W_hh = torch.normal(0, 1, (3, 4)), torch.normal(0, 1, (4, 4))\n",
    "torch.matmul(X, W_xh) + torch.matmul(H, W_hh)"
   ]
  },
  {
   "cell_type": "markdown",
   "id": "4819da22",
   "metadata": {},
   "source": [
    "现在，我们沿列（轴1）拼接矩阵X和H， 沿行（轴0）拼接矩阵W_xh和W_hh。 这两个拼接分别产生形状(3, 5)和形状(5, 4)的矩阵。 再将这两个拼接的矩阵相乘， 我们得到与上面相同形状(3, 4)的输出矩阵。"
   ]
  },
  {
   "cell_type": "code",
   "execution_count": 2,
   "id": "b2b4c6ae",
   "metadata": {},
   "outputs": [
    {
     "data": {
      "text/plain": [
       "tensor([[-1.5604,  1.0007,  0.1825,  0.5617],\n",
       "        [ 1.4847, -0.5460,  3.0467, -1.7858],\n",
       "        [ 1.2874, -0.9269,  1.2277, -0.6752]])"
      ]
     },
     "execution_count": 2,
     "metadata": {},
     "output_type": "execute_result"
    }
   ],
   "source": [
    "torch.matmul(torch.cat((X, H), 1), torch.cat((W_xh, W_hh), 0))"
   ]
  },
  {
   "cell_type": "markdown",
   "id": "c927e835",
   "metadata": {},
   "source": [
    "## 8.4.3 基于循环神经网络的字符级语言模型"
   ]
  },
  {
   "cell_type": "markdown",
   "id": "4101f40c",
   "metadata": {},
   "source": [
    "## 8.4.4 困惑度"
   ]
  },
  {
   "cell_type": "markdown",
   "id": "1c963215",
   "metadata": {},
   "source": [
    "## 8.4.5 小结"
   ]
  },
  {
   "cell_type": "markdown",
   "id": "c4e336f5",
   "metadata": {},
   "source": [
    "·对隐状态使用循环计算的神经网络称为循环神经网络（RNN）。\n",
    "\n",
    "·循环神经网络的隐状态可以捕获直到当前时间步序列的历史信息。\n",
    "\n",
    "·循环神经网络模型的参数数量不会随着时间步的增加而增加。\n",
    "\n",
    "·我们可以使用循环神经网络创建字符级语言模型。\n",
    "\n",
    "·我们可以使用困惑度来评价语言模型的质量。"
   ]
  }
 ],
 "metadata": {
  "kernelspec": {
   "display_name": "Python 3 (ipykernel)",
   "language": "python",
   "name": "python3"
  },
  "language_info": {
   "codemirror_mode": {
    "name": "ipython",
    "version": 3
   },
   "file_extension": ".py",
   "mimetype": "text/x-python",
   "name": "python",
   "nbconvert_exporter": "python",
   "pygments_lexer": "ipython3",
   "version": "3.9.13"
  }
 },
 "nbformat": 4,
 "nbformat_minor": 5
}
