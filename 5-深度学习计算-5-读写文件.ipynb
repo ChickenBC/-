{
 "cells": [
  {
   "cell_type": "markdown",
   "id": "593e7a2e",
   "metadata": {},
   "source": [
    "# 5.5 读写文件"
   ]
  },
  {
   "cell_type": "markdown",
   "id": "49de89e8",
   "metadata": {},
   "source": [
    "到目前为止，我们讨论了如何处理数据，以及如何构建、训练和测试深度学习模型。然而，有时我们希望保存训练的模型，以备将来在各种环境中使用（比如在部署中进行预测）。此外，当运行一个耗时较长的训练过程时，最佳的做法是定期保存中间结果，以确保在服务器电源被不小心断掉时，我们不会损失几天的计算结果。"
   ]
  },
  {
   "cell_type": "markdown",
   "id": "d2bb4618",
   "metadata": {},
   "source": [
    "## 5.5.1 加载和保存张量"
   ]
  },
  {
   "cell_type": "markdown",
   "id": "4619b615",
   "metadata": {},
   "source": [
    "对于单个张量，我们可以直接调用load和save函数分别读写它们。这两个函数都要求我们提供一个名称，save要求将要保存的变量作为输入。"
   ]
  },
  {
   "cell_type": "code",
   "execution_count": 1,
   "id": "ee082313",
   "metadata": {},
   "outputs": [],
   "source": [
    "import torch\n",
    "from torch import nn\n",
    "from torch.nn import functional as F\n",
    "\n",
    "x = torch.arange(4)\n",
    "torch.save(x, 'x-file')"
   ]
  },
  {
   "cell_type": "markdown",
   "id": "4cb30e39",
   "metadata": {},
   "source": [
    "我们现在可以将存储在文件中的数据读回内存"
   ]
  },
  {
   "cell_type": "code",
   "execution_count": 2,
   "id": "da753db4",
   "metadata": {},
   "outputs": [
    {
     "data": {
      "text/plain": [
       "tensor([0, 1, 2, 3])"
      ]
     },
     "execution_count": 2,
     "metadata": {},
     "output_type": "execute_result"
    }
   ],
   "source": [
    "x2 = torch.load('x-file')\n",
    "x2"
   ]
  },
  {
   "cell_type": "markdown",
   "id": "416f4607",
   "metadata": {},
   "source": [
    "我们可以存储一个张量列表，然后把它们读回内存。"
   ]
  },
  {
   "cell_type": "code",
   "execution_count": 3,
   "id": "b19d0956",
   "metadata": {},
   "outputs": [
    {
     "data": {
      "text/plain": [
       "(tensor([0, 1, 2, 3]), tensor([0., 0., 0., 0.]))"
      ]
     },
     "execution_count": 3,
     "metadata": {},
     "output_type": "execute_result"
    }
   ],
   "source": [
    "y = torch.zeros(4)\n",
    "torch.save([x, y], 'x-files')\n",
    "x2, y2 = torch.load('x-files')\n",
    "(x2, y2)"
   ]
  },
  {
   "cell_type": "markdown",
   "id": "38718a1e",
   "metadata": {},
   "source": [
    "我们甚至可以写入或读取从字符串映射到张量的字典。当我们要读取或写入模型中的所有权重时，这很方便。"
   ]
  },
  {
   "cell_type": "code",
   "execution_count": 4,
   "id": "2732bfa3",
   "metadata": {},
   "outputs": [
    {
     "data": {
      "text/plain": [
       "{'x': tensor([0, 1, 2, 3]), 'y': tensor([0., 0., 0., 0.])}"
      ]
     },
     "execution_count": 4,
     "metadata": {},
     "output_type": "execute_result"
    }
   ],
   "source": [
    "mydict = {'x':x, 'y':y}\n",
    "torch.save(mydict, 'mydict')\n",
    "mydict2 = torch.load('mydict')\n",
    "mydict2"
   ]
  },
  {
   "cell_type": "markdown",
   "id": "8063d5a7",
   "metadata": {},
   "source": [
    "## 5.5.2 加载和保存模型参数"
   ]
  },
  {
   "cell_type": "markdown",
   "id": "28814fb1",
   "metadata": {},
   "source": [
    "保存单个权重向量（或其他张量）确实有用，但是如果我们想保存整个模型，并在以后加载它们，单独保存每个向量则会变得很麻烦。毕竟我们可能有上百个参数散布在各处。因此，深度学习框架提供了内置函数来保存和加载整个网络。需要注意的一个细节是，这将保存模型的参数而不是保存整个模型。  \n",
    "例如我们有一个3层多层感知机，我们需要单独指定架构。因为模型本身可以包含任何代码，所以模型本身难以序列化。因此为了恢复模型，我们需要用代码生成架构，然后从磁盘加载参数。"
   ]
  },
  {
   "cell_type": "code",
   "execution_count": 5,
   "id": "633c123d",
   "metadata": {},
   "outputs": [],
   "source": [
    "class MLP(nn.Module):\n",
    "    def __init__(self):\n",
    "        super().__init__()\n",
    "        self.hidden = nn.Linear(20, 256)\n",
    "        self.output = nn.Linear(256, 10)\n",
    "    \n",
    "    def forward(self, x):\n",
    "        return self.output(F.relu(self.hidden(x)))\n",
    "    \n",
    "net = MLP()\n",
    "X = torch.randn(size=(2, 20))\n",
    "Y = net(X)"
   ]
  },
  {
   "cell_type": "markdown",
   "id": "f08b4823",
   "metadata": {},
   "source": [
    "接下来我们将模型的参数存储在一个叫做\"mlp.params\"的文件中。"
   ]
  },
  {
   "cell_type": "code",
   "execution_count": 6,
   "id": "ea28ae94",
   "metadata": {},
   "outputs": [],
   "source": [
    "torch.save(net.state_dict(), 'mlp.params')"
   ]
  },
  {
   "cell_type": "markdown",
   "id": "15f38a55",
   "metadata": {},
   "source": [
    "为了恢复模型，我们实例化了原始多层感知机模型的一个备份。这里我们不需要随机初始化模型参数，而是直接读取文件中存储的参数。"
   ]
  },
  {
   "cell_type": "code",
   "execution_count": 7,
   "id": "388b4ece",
   "metadata": {},
   "outputs": [
    {
     "data": {
      "text/plain": [
       "MLP(\n",
       "  (hidden): Linear(in_features=20, out_features=256, bias=True)\n",
       "  (output): Linear(in_features=256, out_features=10, bias=True)\n",
       ")"
      ]
     },
     "execution_count": 7,
     "metadata": {},
     "output_type": "execute_result"
    }
   ],
   "source": [
    "clone = MLP()\n",
    "clone.load_state_dict(torch.load('mlp.params'))\n",
    "clone.eval()"
   ]
  },
  {
   "cell_type": "markdown",
   "id": "39d3118e",
   "metadata": {},
   "source": [
    "由于两个实例具有相同的模型参数，在输入相同的X时，两个实例的计算结果应该相同。"
   ]
  },
  {
   "cell_type": "code",
   "execution_count": 8,
   "id": "4fedff49",
   "metadata": {},
   "outputs": [
    {
     "data": {
      "text/plain": [
       "tensor([[True, True, True, True, True, True, True, True, True, True],\n",
       "        [True, True, True, True, True, True, True, True, True, True]])"
      ]
     },
     "execution_count": 8,
     "metadata": {},
     "output_type": "execute_result"
    }
   ],
   "source": [
    "Y_clone = clone(X)\n",
    "Y_clone == Y"
   ]
  },
  {
   "cell_type": "markdown",
   "id": "b44d522e",
   "metadata": {},
   "source": [
    "## 5.5.3 小结"
   ]
  },
  {
   "cell_type": "markdown",
   "id": "12cd690d",
   "metadata": {},
   "source": [
    "·save和load函数可用于张量对象的文件读写。  \n",
    "·我们可以通过参数字典保存和加载网络的全部参数。  \n",
    "·保存架构必须在代码中完成，而不是在参数中完成。"
   ]
  }
 ],
 "metadata": {
  "kernelspec": {
   "display_name": "Python 3 (ipykernel)",
   "language": "python",
   "name": "python3"
  },
  "language_info": {
   "codemirror_mode": {
    "name": "ipython",
    "version": 3
   },
   "file_extension": ".py",
   "mimetype": "text/x-python",
   "name": "python",
   "nbconvert_exporter": "python",
   "pygments_lexer": "ipython3",
   "version": "3.9.12"
  }
 },
 "nbformat": 4,
 "nbformat_minor": 5
}
