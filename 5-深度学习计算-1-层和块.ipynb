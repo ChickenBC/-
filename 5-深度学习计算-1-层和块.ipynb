{
 "cells": [
  {
   "cell_type": "markdown",
   "id": "21134aaf",
   "metadata": {},
   "source": [
    "# 5.1 层和块"
   ]
  },
  {
   "cell_type": "markdown",
   "id": "44498543",
   "metadata": {},
   "source": [
    "单个神经网络（1）接受一些输入；（2）生成相应的标量输出；（3）具有一组相关参数，更新这些参数可以优化某目标函数。"
   ]
  },
  {
   "cell_type": "markdown",
   "id": "4dea11ef",
   "metadata": {},
   "source": [
    "当具有多个输出的网络时，我们利用矢量化算法来描述整层神经元。像单个神经元一样，层（1）接受一组输入，（2）生成相应的输出，（3）有一组可调整的参数描述。当我们使用softmax回归时，一个单层本身就是模型。然而，即使我们随后引入了多层感知机，我们仍然可以认为该模型保留了上述基本架构。"
   ]
  },
  {
   "cell_type": "markdown",
   "id": "0deb216c",
   "metadata": {},
   "source": [
    "为了实现复杂的网络，引入块的概念。块可以描述单个层、由多个层组成的组件或整个模型本身。使用块进行抽象的好处是可以将一些块组合成更大的组件，这一过程通常是递归的。通过定义代码来按需生成任意复杂度的块，我们可以通过简洁的代码实现复杂的神经网络。"
   ]
  },
  {
   "cell_type": "markdown",
   "id": "a4c3880c",
   "metadata": {},
   "source": [
    "从编程的角度看，块由类（class)表示。它的任何子类都必须定义一个将其输入转换为输出的前向传播函数，并且必须存储任何必需的参数。最后，为了计算梯度，块必须具有反向传播函数。"
   ]
  },
  {
   "cell_type": "code",
   "execution_count": 1,
   "id": "a1670e96",
   "metadata": {},
   "outputs": [
    {
     "data": {
      "text/plain": [
       "tensor([[ 0.1502, -0.0148, -0.1751,  0.0648, -0.2747,  0.0635, -0.0209, -0.0325,\n",
       "         -0.1510, -0.1641],\n",
       "        [ 0.0020, -0.0005, -0.0854,  0.0230, -0.3277, -0.0281, -0.0748, -0.0582,\n",
       "         -0.0642, -0.0763]], grad_fn=<AddmmBackward0>)"
      ]
     },
     "execution_count": 1,
     "metadata": {},
     "output_type": "execute_result"
    }
   ],
   "source": [
    "#下面的代码生成一个网络，其中包含一个具有256个单元和ReLU激活函数的全连接隐藏层，然后是一个具有10个隐藏层且不带激活函数的全连接输出层。\n",
    "import torch\n",
    "from torch import nn\n",
    "from torch.nn import functional as F\n",
    "\n",
    "net = nn.Sequential(nn.Linear(20, 256), nn.ReLU(), nn.Linear(256, 10))\n",
    "\n",
    "X = torch.rand(2, 20)\n",
    "net(X)"
   ]
  },
  {
   "cell_type": "markdown",
   "id": "07d326ce",
   "metadata": {},
   "source": [
    "我们通过实例化nn.Sequential来构建我们的模型，层的执行顺序是作为参数传递的。简而言之，nn.Sequential定义了一种特殊的Module，即在Pytorch中表示一个块的类，它维护了一个由Module组成的有序列表。注意，两个全连接层都是Linear类的实例，Linear类本身就是Mudule的子类。\n",
    "net(X)实际上是net.__call__(X)的简写。"
   ]
  },
  {
   "cell_type": "markdown",
   "id": "3dc91364",
   "metadata": {},
   "source": [
    "## 5.1.1 自定义块"
   ]
  },
  {
   "cell_type": "markdown",
   "id": "4d70b507",
   "metadata": {},
   "source": [
    "每个块必须的功能：\n",
    "1.将输入数据作为其前向传播函数的参数；\n",
    "2.通过前向传播来生成输出。请注意，输出的形状可能与输入的形状不同。\n",
    "3.计算其输出关于输入的梯度，可通过其反向传播函数进行访问。通常这是自动发生的。\n",
    "4.存储和访问前向传播计算所需的参数。\n",
    "5.根据需要初始化模型参数。"
   ]
  },
  {
   "cell_type": "code",
   "execution_count": 2,
   "id": "79e38f9d",
   "metadata": {},
   "outputs": [],
   "source": [
    "#从零开始编写一个块。它包含一个多层感知机，其具有256个隐藏单元的隐藏层和一个10维输出层。\n",
    "#MPL类继承了表示块的类。我们的实现只需要提供我们自己的构造函数和前向传播函数。\n",
    "\n",
    "class MLP(nn.Module):\n",
    "    # 用模型参数生命层。这里，我们声明两个全连接层\n",
    "    def __init__(self):\n",
    "        # 调用MLP的父类Module的构造函数来执行必要的初始化\n",
    "        # 这样，在这类实例化时也可以指定其他函数参数，例如模型参数params\n",
    "        super().__init__()\n",
    "        self.hidden = nn.Linear(20, 256)\n",
    "        self.out = nn.Linear(256, 10)\n",
    "        \n",
    "    # 定义模型的前向传播，即如何根据输入X返回所需的模型输出\n",
    "    def forward(self, X):\n",
    "        # 注意，我们这里使用ReLU的函数版本，其在nn.functional模块中定义\n",
    "        return self.out(F.relu(self.hidden(X)))"
   ]
  },
  {
   "cell_type": "markdown",
   "id": "457f1552",
   "metadata": {},
   "source": [
    "前向传播函数，它以X作为输入，计算带有激活函数的隐藏表示，并输出其未规范化的输出值。在这个MLP实现中，两个层都是实例变量。\n",
    "接着实例化多层感知机的层，然后在每次调用前向传播函数时调用这些层。\n",
    "注意一些细节：1.我们定制的__init__函数通过super().__init__()调用父类的__init__函数，省去了重复编写模板代码的痛苦。\n",
    "2.我们实例化两个全连接层，分为别self.hidden和self.out。\n",
    "3.除非我们实现一个新的运算符，否则不必担心反向传播函数或参数初始化，系统将自动生成这些。"
   ]
  },
  {
   "cell_type": "code",
   "execution_count": 3,
   "id": "37588d9c",
   "metadata": {},
   "outputs": [
    {
     "data": {
      "text/plain": [
       "tensor([[-0.0935,  0.2152, -0.2614,  0.0323,  0.1411, -0.1798,  0.1329,  0.0625,\n",
       "         -0.0867, -0.1276],\n",
       "        [-0.0326,  0.1894, -0.2613, -0.1224,  0.1880, -0.1510,  0.0631,  0.1629,\n",
       "         -0.1698,  0.0049]], grad_fn=<AddmmBackward0>)"
      ]
     },
     "execution_count": 3,
     "metadata": {},
     "output_type": "execute_result"
    }
   ],
   "source": [
    "net = MLP()\n",
    "net(X)"
   ]
  },
  {
   "cell_type": "markdown",
   "id": "51441946",
   "metadata": {},
   "source": [
    "块的一个主要优点是它的多功能性。我们可以子类化块以创建层、整个模型或具有中等复杂度的各种组件。"
   ]
  },
  {
   "cell_type": "markdown",
   "id": "9479c6f0",
   "metadata": {},
   "source": [
    "## 5.1.2 顺序块"
   ]
  },
  {
   "cell_type": "markdown",
   "id": "b81188c6",
   "metadata": {},
   "source": [
    "现在我们可以更仔细地看看Sequential类是如何工作的，回想一下Sequential的设计是为了把其他模块串起来。为了构建我们自己的简化的MySequential，我们只需要定义两个关键函数：\n",
    "1.一个将块逐个追加到列表中的函数；\n",
    "2.一种前向传播函数，用于将输入按追加块的顺序传递给块组成的“链条”"
   ]
  },
  {
   "cell_type": "code",
   "execution_count": 4,
   "id": "9c1a00bb",
   "metadata": {},
   "outputs": [],
   "source": [
    "# MySequential类提供了与默认Sequential类相同的功能\n",
    "class MySequential(nn.Module):\n",
    "    def __init__(self, *args):\n",
    "        super().__init__()\n",
    "        for idx, module in enumerate(args):\n",
    "            # 这里，module是Module子类的一个实例。我们把它保存在'Module'类的成员\n",
    "            # 变量_modules中_module的类型是OrderedDict\n",
    "            self._modules[str(idx)] = module\n",
    "            \n",
    "    def forward(self, X):\n",
    "        # OrderedDict保证了按照成员添加的顺序遍历它们\n",
    "        for block in self._modules.values():\n",
    "            X = block(X)\n",
    "        return X"
   ]
  },
  {
   "cell_type": "code",
   "execution_count": 5,
   "id": "62b6d1f5",
   "metadata": {},
   "outputs": [
    {
     "data": {
      "text/plain": [
       "tensor([[ 0.0320, -0.1269,  0.0310, -0.0151,  0.0123,  0.1173,  0.3469, -0.1395,\n",
       "         -0.0105,  0.2393],\n",
       "        [ 0.0669, -0.0367,  0.0934,  0.1619, -0.0846,  0.1724,  0.3466, -0.0469,\n",
       "         -0.0725,  0.2247]], grad_fn=<AddmmBackward0>)"
      ]
     },
     "execution_count": 5,
     "metadata": {},
     "output_type": "execute_result"
    }
   ],
   "source": [
    "net = MySequential(nn.Linear(20, 256), nn.ReLU(), nn.Linear(256, 10))\n",
    "net(X)"
   ]
  },
  {
   "cell_type": "markdown",
   "id": "ff34069a",
   "metadata": {},
   "source": [
    "## 5.1.3 在前向传播函数中执行代码"
   ]
  },
  {
   "cell_type": "markdown",
   "id": "9c22ce7a",
   "metadata": {},
   "source": [
    "Sequential类使模型构造变得简单，允许我们组合新的架构，而不必定义自己的类。然而，并不是所有架构都是简单的顺序架构。"
   ]
  },
  {
   "cell_type": "markdown",
   "id": "05b4bede",
   "metadata": {},
   "source": [
    "到目前为止，我们网络中的所有操作都对网络的激活值及网络参数起作用。然而，有时我们可能希望合并既不是上一层的结果也不是可更新参数的项，我们称之为常数参数。"
   ]
  },
  {
   "cell_type": "code",
   "execution_count": 6,
   "id": "c47c5077",
   "metadata": {},
   "outputs": [],
   "source": [
    "class FixedHiddenMLP(nn.Module):\n",
    "    def __init__(self):\n",
    "        super().__init__()\n",
    "        # 不计算梯度的随机权重参数。因此其在训练期间保持不变\n",
    "        self.rand_weight = torch.rand((20, 20), requires_grad=False)\n",
    "        self.linear = nn.Linear(20, 20)\n",
    "    \n",
    "    def forward(self, X):\n",
    "        X = self.linear(X)\n",
    "        # 使用创建的常量参数以及relu和mm函数\n",
    "        X = F.relu(torch.mm(X, self.rand_weight) + 1)\n",
    "        # 复用全连结层。这相当于两个全连接层的共享参数\n",
    "        X = self.linear(X)\n",
    "        # 控制流\n",
    "        while X.abs().sum() > 1:\n",
    "            X /= 2\n",
    "        return X.sum()"
   ]
  },
  {
   "cell_type": "markdown",
   "id": "1e399f73",
   "metadata": {},
   "source": [
    "在这个FixedHiddenMLP模型中，我们实现了一个隐藏层。其权重在实例化时被随机初始化，之后为常量。这个权重不是一个模型参数，因此它永远不会被反向传播更新。然后，神经网络将这个固定层的输出通过一个全连接层。"
   ]
  },
  {
   "cell_type": "code",
   "execution_count": 7,
   "id": "4e718f84",
   "metadata": {},
   "outputs": [
    {
     "data": {
      "text/plain": [
       "tensor(-0.0995, grad_fn=<SumBackward0>)"
      ]
     },
     "execution_count": 7,
     "metadata": {},
     "output_type": "execute_result"
    }
   ],
   "source": [
    "net = FixedHiddenMLP()\n",
    "net(X)"
   ]
  },
  {
   "cell_type": "markdown",
   "id": "351b295d",
   "metadata": {},
   "source": [
    "可以混合搭配各种组合块。"
   ]
  },
  {
   "cell_type": "code",
   "execution_count": 8,
   "id": "058a0837",
   "metadata": {},
   "outputs": [
    {
     "data": {
      "text/plain": [
       "tensor(-0.0942, grad_fn=<SumBackward0>)"
      ]
     },
     "execution_count": 8,
     "metadata": {},
     "output_type": "execute_result"
    }
   ],
   "source": [
    "# 嵌套块\n",
    "class NestMLP(nn.Module):\n",
    "    def __init__(self):\n",
    "        super().__init__()\n",
    "        self.net = nn.Sequential(nn.Linear(20, 64), nn.ReLU(),\n",
    "                                nn.Linear(64, 32), nn.ReLU())\n",
    "        self.linear = nn.Linear(32, 16)\n",
    "        \n",
    "    def forward(self, X):\n",
    "        return self.linear(self.net(X))\n",
    "\n",
    "chimera = nn.Sequential(NestMLP(), nn.Linear(16, 20), FixedHiddenMLP())\n",
    "chimera(X)"
   ]
  },
  {
   "cell_type": "markdown",
   "id": "4f342af0",
   "metadata": {},
   "source": [
    "## 5.1.4 效率"
   ]
  },
  {
   "cell_type": "markdown",
   "id": "f22f8b01",
   "metadata": {},
   "source": [
    "## 5.1.5 小结"
   ]
  },
  {
   "cell_type": "markdown",
   "id": "9dacdd62",
   "metadata": {},
   "source": [
    "1.一个块可以有多个层组成；一个块可以由许多块组成；  \n",
    "2.块可以包含代码；  \n",
    "3.块负责大量的内部处理，包含参数初始化和反向传播；  \n",
    "4.层和块的顺序连接由Sequential块处理。"
   ]
  }
 ],
 "metadata": {
  "kernelspec": {
   "display_name": "Python 3 (ipykernel)",
   "language": "python",
   "name": "python3"
  },
  "language_info": {
   "codemirror_mode": {
    "name": "ipython",
    "version": 3
   },
   "file_extension": ".py",
   "mimetype": "text/x-python",
   "name": "python",
   "nbconvert_exporter": "python",
   "pygments_lexer": "ipython3",
   "version": "3.9.12"
  }
 },
 "nbformat": 4,
 "nbformat_minor": 5
}
